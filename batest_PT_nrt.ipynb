{
 "cells": [
  {
   "cell_type": "code",
   "execution_count": null,
   "metadata": {
    "colab": {
     "base_uri": "https://localhost:8080/"
    },
    "id": "dHCLq3U57fRN",
    "outputId": "761cdf7f-966f-49b5-e8af-f23b6d073332"
   },
   "outputs": [],
   "source": [
    "!apt-get install -y libhdf4-dev\n",
    "!apt-get install -y libproj-dev proj-data proj-bin  \n",
    "!apt-get install -y libgeos-dev  \n",
    "!pip install -Uq banet==0.6.7"
   ]
  },
  {
   "cell_type": "code",
   "execution_count": null,
   "metadata": {
    "id": "OAdEZsTfy1Wb"
   },
   "outputs": [],
   "source": [
    "from IPython.display import HTML\n",
    "from google.colab import drive\n",
    "from fastai.vision.all import *\n",
    "from banet.core import *\n",
    "from banet.geo import *\n",
    "from banet.nrt import *"
   ]
  },
  {
   "cell_type": "code",
   "execution_count": null,
   "metadata": {
    "colab": {
     "base_uri": "https://localhost:8080/"
    },
    "id": "nWpMyvuD7q3b",
    "outputId": "9ab5433d-252d-45a5-9980-cb0cd1cef179"
   },
   "outputs": [],
   "source": [
    "# Mount drive\n",
    "drive.mount('/content/gdrive')\n",
    "path = Path('/content/gdrive/MyDrive/batest')\n",
    "path.mkdir(exist_ok=True)"
   ]
  },
  {
   "cell_type": "code",
   "execution_count": null,
   "metadata": {
    "id": "IJCdenbayQ2p"
   },
   "outputs": [],
   "source": [
    "!echo '{\"url\":\"\",\"key\":\"\",\"email\":\"\"}' > '/root/.ladsweb'"
   ]
  },
  {
   "cell_type": "code",
   "execution_count": null,
   "metadata": {
    "id": "iVjXoxnl097s"
   },
   "outputs": [],
   "source": [
    "region = 'PT'\n",
    "hotspots_region = 'Europe'\n",
    "paths = ProjectPath(path/'PT')\n",
    "weight_files = ['banetv0.20-val2017-fold0.pth']\n",
    "Region(region, [-10, 36, -6, 44], 0.001).export(paths.config/f'R_{region}.json')\n",
    "manager = RunManager(paths, region, product='VIIRS375', time='yesterday')"
   ]
  },
  {
   "cell_type": "code",
   "execution_count": null,
   "metadata": {
    "colab": {
     "base_uri": "https://localhost:8080/"
    },
    "id": "z5FA-C8w2dit",
    "outputId": "58411777-7ed3-4f72-9d20-eb8fa1e7a065"
   },
   "outputs": [],
   "source": [
    "manager.update_hotspots(hotspots_region)"
   ]
  },
  {
   "cell_type": "code",
   "execution_count": null,
   "metadata": {
    "id": "6455r3xM2bcu"
   },
   "outputs": [],
   "source": [
    "manager.download_viirs()"
   ]
  },
  {
   "cell_type": "code",
   "execution_count": null,
   "metadata": {
    "id": "LgvKrtMjlSNC"
   },
   "outputs": [],
   "source": [
    "manager.preprocess_dataset()"
   ]
  },
  {
   "cell_type": "code",
   "execution_count": null,
   "metadata": {
    "id": "OsjJicj36GIA"
   },
   "outputs": [],
   "source": [
    "manager.get_preds(weight_files, threshold=0.01, max_size=1000)"
   ]
  },
  {
   "cell_type": "code",
   "execution_count": null,
   "metadata": {
    "id": "C3ip_G1V7EKH"
   },
   "outputs": [],
   "source": [
    "manager.postprocess(filename=f'ba_{manager.time.strftime(\"%Y%m%d\")}', threshold=0.5, area_epsg=3763)"
   ]
  }
 ],
 "metadata": {
  "accelerator": "GPU",
  "colab": {
   "collapsed_sections": [],
   "name": "batest_PT_nrt",
   "provenance": []
  },
  "kernelspec": {
   "display_name": "Python 3",
   "language": "python",
   "name": "python3"
  },
  "language_info": {
   "codemirror_mode": {
    "name": "ipython",
    "version": 3
   },
   "file_extension": ".py",
   "mimetype": "text/x-python",
   "name": "python",
   "nbconvert_exporter": "python",
   "pygments_lexer": "ipython3",
   "version": "3.6.5"
  }
 },
 "nbformat": 4,
 "nbformat_minor": 1
}
