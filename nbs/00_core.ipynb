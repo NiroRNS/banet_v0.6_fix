{
 "cells": [
  {
   "cell_type": "code",
   "execution_count": null,
   "metadata": {},
   "outputs": [],
   "source": [
    "# default_exp core"
   ]
  },
  {
   "cell_type": "code",
   "execution_count": null,
   "metadata": {},
   "outputs": [],
   "source": [
    "# export\n",
    "import numpy as np\n",
    "import json\n",
    "from pathlib import Path"
   ]
  },
  {
   "cell_type": "code",
   "execution_count": null,
   "metadata": {},
   "outputs": [],
   "source": [
    "# hide\n",
    "from nbdev.showdoc import show_doc\n",
    "from nbdev.export import notebook2script"
   ]
  },
  {
   "cell_type": "markdown",
   "metadata": {},
   "source": [
    "# Core\n",
    "> Functions that implement basic functionality that will be used in the library."
   ]
  },
  {
   "cell_type": "markdown",
   "metadata": {},
   "source": [
    "## Util functions"
   ]
  },
  {
   "cell_type": "markdown",
   "metadata": {},
   "source": [
    "A set of functions that provide usefull functionality"
   ]
  },
  {
   "cell_type": "code",
   "execution_count": null,
   "metadata": {},
   "outputs": [],
   "source": [
    "# export\n",
    "def filter_files(files, include=[], exclude=[]):\n",
    "    \"Filter list of files using a list of strings to inculde and/or exclude\"\n",
    "    for incl in include:\n",
    "        files = [f for f in files if incl in f.name]\n",
    "    for excl in exclude:\n",
    "        files = [f for f in files if excl not in f.name]\n",
    "    return sorted(files)\n",
    "\n",
    "def ls(x, recursive=False, include=[], exclude=[]):\n",
    "    \"List files in folder, if recursive is True also list subfolders\"\n",
    "    if not recursive:\n",
    "        out = list(x.iterdir())\n",
    "    else:\n",
    "        out = [o for o in x.glob('**/*')]\n",
    "    out = filter_files(out, include=include, exclude=exclude)\n",
    "    return sorted(out)\n",
    "\n",
    "Path.ls = ls\n",
    "\n",
    "def hdf_attr_check(attr, hdf, default):\n",
    "    \"Check if attribute is in hdf_attr_dict and return default\"\n",
    "    return default if not hasattr(hdf, attr) else hdf.__getattr__(attr) \n",
    "\n",
    "def dict2json(data:dict, file):\n",
    "    \"Writes json file from dict\"\n",
    "    with open(file, 'w') as f:\n",
    "        f.write(json.dumps(data))"
   ]
  },
  {
   "cell_type": "markdown",
   "metadata": {},
   "source": [
    "Examples:"
   ]
  },
  {
   "cell_type": "code",
   "execution_count": null,
   "metadata": {},
   "outputs": [
    {
     "data": {
      "text/plain": [
       "[PosixPath('banet/__init__.py'),\n",
       " PosixPath('banet/__pycache__'),\n",
       " PosixPath('banet/_nbdev.py'),\n",
       " PosixPath('banet/banet'),\n",
       " PosixPath('banet/cli.py'),\n",
       " PosixPath('banet/core.py'),\n",
       " PosixPath('banet/data.py'),\n",
       " PosixPath('banet/folder'),\n",
       " PosixPath('banet/geo.py'),\n",
       " PosixPath('banet/models.py'),\n",
       " PosixPath('banet/predict.py'),\n",
       " PosixPath('banet/train.py')]"
      ]
     },
     "execution_count": null,
     "metadata": {},
     "output_type": "execute_result"
    }
   ],
   "source": [
    "path = Path('banet')\n",
    "path.ls()"
   ]
  },
  {
   "cell_type": "code",
   "execution_count": null,
   "metadata": {},
   "outputs": [
    {
     "data": {
      "text/plain": [
       "[PosixPath('banet/__init__.py'),\n",
       " PosixPath('banet/_nbdev.py'),\n",
       " PosixPath('banet/cli.py'),\n",
       " PosixPath('banet/core.py'),\n",
       " PosixPath('banet/data.py'),\n",
       " PosixPath('banet/geo.py'),\n",
       " PosixPath('banet/models.py'),\n",
       " PosixPath('banet/predict.py'),\n",
       " PosixPath('banet/train.py')]"
      ]
     },
     "execution_count": null,
     "metadata": {},
     "output_type": "execute_result"
    }
   ],
   "source": [
    "path = Path('banet')\n",
    "path.ls(include=['.py'])"
   ]
  },
  {
   "cell_type": "code",
   "execution_count": null,
   "metadata": {},
   "outputs": [
    {
     "data": {
      "text/plain": [
       "[PosixPath('banet/cli.py'),\n",
       " PosixPath('banet/core.py'),\n",
       " PosixPath('banet/data.py'),\n",
       " PosixPath('banet/geo.py'),\n",
       " PosixPath('banet/models.py'),\n",
       " PosixPath('banet/predict.py'),\n",
       " PosixPath('banet/train.py')]"
      ]
     },
     "execution_count": null,
     "metadata": {},
     "output_type": "execute_result"
    }
   ],
   "source": [
    "path = Path('banet')\n",
    "path.ls(include=['.py'], exclude=['_'])"
   ]
  },
  {
   "cell_type": "code",
   "execution_count": null,
   "metadata": {},
   "outputs": [],
   "source": [
    "# export        \n",
    "def monthlen(year, month):\n",
    "    \"Gives lenght of the month\"\n",
    "    base = [31, 28, 31, 30, 31, 30, 31, 31, 30, 31, 30, 31]\n",
    "    if (year % 4) == 0:\n",
    "        if (year % 100) == 0:\n",
    "            if (year % 400) == 0:\n",
    "                base[1] += 1\n",
    "        else:\n",
    "            base[1] += 1\n",
    "    return base[month-1]"
   ]
  },
  {
   "cell_type": "code",
   "execution_count": null,
   "metadata": {},
   "outputs": [
    {
     "data": {
      "text/plain": [
       "29"
      ]
     },
     "execution_count": null,
     "metadata": {},
     "output_type": "execute_result"
    }
   ],
   "source": [
    "year = 2000\n",
    "month = 2\n",
    "monthlen(year, month)"
   ]
  },
  {
   "cell_type": "code",
   "execution_count": null,
   "metadata": {},
   "outputs": [],
   "source": [
    "# export\n",
    "class InOutPath():\n",
    "    \"\"\"Keeps track of an input and a output path. Creates paths if they don't exist and mkdir=True\"\"\"\n",
    "    def __init__(self, input_path:str, output_path:str, mkdir=True):\n",
    "        if isinstance(input_path, str): input_path = Path(input_path)\n",
    "        if isinstance(output_path, str): output_path = Path(output_path)\n",
    "        self.input_path = input_path\n",
    "        self.output_path = output_path\n",
    "        if mkdir: self.mkdirs()\n",
    "            \n",
    "    @property\n",
    "    def src(self):\n",
    "        \"Shortcut to input_path\"\n",
    "        return self.input_path\n",
    "    \n",
    "    @property\n",
    "    def dst(self):\n",
    "        \"Shortcut to output_path\"\n",
    "        return self.output_path\n",
    "            \n",
    "    def mkdirs(self):\n",
    "        self.input_path.mkdir(exist_ok=True, parents=True)\n",
    "        self.output_path.mkdir(exist_ok=True, parents=True)\n",
    "\n",
    "    def __truediv__(self, s):\n",
    "        return InOutPath(self.src/s, self.dst/s)\n",
    "    \n",
    "    def __repr__(self):\n",
    "        return '\\n'.join([f'{i}: {o}' for i, o in self.__dict__.items()]) + '\\n'"
   ]
  },
  {
   "cell_type": "code",
   "execution_count": null,
   "metadata": {},
   "outputs": [
    {
     "data": {
      "text/markdown": [
       "<h4 id=\"InOutPath.src\" class=\"doc_header\"><code>InOutPath.src</code><a href=\"\" class=\"source_link\" style=\"float:right\">[source]</a></h4>\n",
       "\n",
       "Shortcut to input_path"
      ],
      "text/plain": [
       "<IPython.core.display.Markdown object>"
      ]
     },
     "metadata": {},
     "output_type": "display_data"
    },
    {
     "data": {
      "text/markdown": [
       "<h4 id=\"InOutPath.dst\" class=\"doc_header\"><code>InOutPath.dst</code><a href=\"\" class=\"source_link\" style=\"float:right\">[source]</a></h4>\n",
       "\n",
       "Shortcut to output_path"
      ],
      "text/plain": [
       "<IPython.core.display.Markdown object>"
      ]
     },
     "metadata": {},
     "output_type": "display_data"
    }
   ],
   "source": [
    "show_doc(InOutPath.src)\n",
    "show_doc(InOutPath.dst)"
   ]
  },
  {
   "cell_type": "code",
   "execution_count": null,
   "metadata": {},
   "outputs": [
    {
     "name": "stdout",
     "output_type": "stream",
     "text": [
      "Converted 00_core.ipynb.\n",
      "Converted 01_geo.ipynb.\n",
      "Converted 02_data.ipynb.\n",
      "Converted 03_models.ipynb.\n",
      "Converted 04_predict.ipynb.\n",
      "Converted 05_train.ipynb.\n",
      "Converted 06_cli.ipynb.\n",
      "Converted 99_index.ipynb.\n"
     ]
    }
   ],
   "source": [
    "# hide\n",
    "notebook2script()"
   ]
  }
 ],
 "metadata": {
  "kernelspec": {
   "display_name": "Python (fastai_dev)",
   "language": "python",
   "name": "fastai_dev"
  }
 },
 "nbformat": 4,
 "nbformat_minor": 2
}
