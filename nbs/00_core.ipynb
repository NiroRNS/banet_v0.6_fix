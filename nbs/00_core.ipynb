{
 "cells": [
  {
   "cell_type": "code",
   "execution_count": null,
   "metadata": {},
   "outputs": [],
   "source": [
    "# default_exp core"
   ]
  },
  {
   "cell_type": "code",
   "execution_count": null,
   "metadata": {},
   "outputs": [],
   "source": [
    "# export\n",
    "import numpy as np\n",
    "import json\n",
    "from pathlib import Path\n",
    "from nbdev.imports import test_eq"
   ]
  },
  {
   "cell_type": "code",
   "execution_count": null,
   "metadata": {},
   "outputs": [],
   "source": [
    "# hide\n",
    "from nbdev.showdoc import show_doc\n",
    "from nbdev.export import notebook2script"
   ]
  },
  {
   "cell_type": "markdown",
   "metadata": {},
   "source": [
    "# Core\n",
    "> Functions that implement basic functionality that will be used in the library."
   ]
  },
  {
   "cell_type": "markdown",
   "metadata": {},
   "source": [
    "## Util functions"
   ]
  },
  {
   "cell_type": "markdown",
   "metadata": {},
   "source": [
    "A set of functions that provide usefull functionality"
   ]
  },
  {
   "cell_type": "code",
   "execution_count": null,
   "metadata": {},
   "outputs": [],
   "source": [
    "# export\n",
    "def filter_files(files, include=[], exclude=[]):\n",
    "    \"Filter list of files using a list of strings to inculde and/or exclude\"\n",
    "    for incl in include:\n",
    "        files = [f for f in files if incl in f.name]\n",
    "    for excl in exclude:\n",
    "        files = [f for f in files if excl not in f.name]\n",
    "    return sorted(files)\n",
    "\n",
    "def ls(x, recursive=False, include=[], exclude=[]):\n",
    "    \"List files in folder, if recursive is True also list subfolders\"\n",
    "    if not recursive:\n",
    "        out = list(x.iterdir())\n",
    "    else:\n",
    "        out = [o for o in x.glob('**/*')]\n",
    "    out = filter_files(out, include=include, exclude=exclude)\n",
    "    return sorted(out)\n",
    "\n",
    "Path.ls = ls\n",
    "\n",
    "def hdf_attr_check(attr, hdf, default):\n",
    "    \"Check if attribute is in hdf_attr_dict and return default\"\n",
    "    return default if not hasattr(hdf, attr) else hdf.__getattr__(attr)\n",
    "\n",
    "def dict2json(data:dict, file):\n",
    "    \"Writes json file from dict\"\n",
    "    with open(file, 'w') as f:\n",
    "        f.write(json.dumps(data))"
   ]
  },
  {
   "cell_type": "markdown",
   "metadata": {},
   "source": [
    "Examples:"
   ]
  },
  {
   "cell_type": "code",
   "execution_count": null,
   "metadata": {},
   "outputs": [
    {
     "data": {
      "text/plain": [
       "[Path('.gitattributes'),\n",
       " Path('.ipynb_checkpoints'),\n",
       " Path('.last_checked'),\n",
       " Path('00_core.ipynb'),\n",
       " Path('01_geo.ipynb'),\n",
       " Path('02_data.ipynb'),\n",
       " Path('03_models.ipynb'),\n",
       " Path('04_predict.ipynb'),\n",
       " Path('04b_nrt.ipynb'),\n",
       " Path('04c_historical.ipynb'),\n",
       " Path('05_train.ipynb'),\n",
       " Path('06_cli.ipynb'),\n",
       " Path('07_web.ipynb'),\n",
       " Path('data'),\n",
       " Path('hide'),\n",
       " Path('historicalPT'),\n",
       " Path('images'),\n",
       " Path('index.ipynb'),\n",
       " Path('tutorial.australia2020.ipynb'),\n",
       " Path('tutorial.australia2020_100m.ipynb')]"
      ]
     },
     "execution_count": null,
     "metadata": {},
     "output_type": "execute_result"
    }
   ],
   "source": [
    "path = Path('.')\n",
    "path.ls()"
   ]
  },
  {
   "cell_type": "code",
   "execution_count": null,
   "metadata": {},
   "outputs": [
    {
     "data": {
      "text/plain": [
       "[Path('.ipynb_checkpoints'),\n",
       " Path('00_core.ipynb'),\n",
       " Path('01_geo.ipynb'),\n",
       " Path('02_data.ipynb'),\n",
       " Path('03_models.ipynb'),\n",
       " Path('04_predict.ipynb'),\n",
       " Path('04b_nrt.ipynb'),\n",
       " Path('04c_historical.ipynb'),\n",
       " Path('05_train.ipynb'),\n",
       " Path('06_cli.ipynb'),\n",
       " Path('07_web.ipynb'),\n",
       " Path('index.ipynb'),\n",
       " Path('tutorial.australia2020.ipynb'),\n",
       " Path('tutorial.australia2020_100m.ipynb')]"
      ]
     },
     "execution_count": null,
     "metadata": {},
     "output_type": "execute_result"
    }
   ],
   "source": [
    "path = Path('.')\n",
    "path.ls(include=['.ipynb'])"
   ]
  },
  {
   "cell_type": "code",
   "execution_count": null,
   "metadata": {},
   "outputs": [
    {
     "data": {
      "text/plain": [
       "[Path('00_core.ipynb'),\n",
       " Path('01_geo.ipynb'),\n",
       " Path('02_data.ipynb'),\n",
       " Path('03_models.ipynb'),\n",
       " Path('04_predict.ipynb'),\n",
       " Path('04b_nrt.ipynb'),\n",
       " Path('04c_historical.ipynb'),\n",
       " Path('05_train.ipynb'),\n",
       " Path('06_cli.ipynb'),\n",
       " Path('07_web.ipynb'),\n",
       " Path('index.ipynb'),\n",
       " Path('tutorial.australia2020.ipynb'),\n",
       " Path('tutorial.australia2020_100m.ipynb')]"
      ]
     },
     "execution_count": null,
     "metadata": {},
     "output_type": "execute_result"
    }
   ],
   "source": [
    "path = Path('.')\n",
    "path.ls(include=['.ipynb'], exclude=['_checkpoints'])"
   ]
  },
  {
   "cell_type": "code",
   "execution_count": null,
   "metadata": {},
   "outputs": [],
   "source": [
    "# export        \n",
    "def monthlen(year, month):\n",
    "    \"Gives lenght of the month\"\n",
    "    base = [31, 28, 31, 30, 31, 30, 31, 31, 30, 31, 30, 31]\n",
    "    if (year % 4) == 0:\n",
    "        if (year % 100) == 0:\n",
    "            if (year % 400) == 0:\n",
    "                base[1] += 1\n",
    "        else:\n",
    "            base[1] += 1\n",
    "    return base[month-1]"
   ]
  },
  {
   "cell_type": "code",
   "execution_count": null,
   "metadata": {},
   "outputs": [
    {
     "data": {
      "text/plain": [
       "29"
      ]
     },
     "execution_count": null,
     "metadata": {},
     "output_type": "execute_result"
    }
   ],
   "source": [
    "year = 2000\n",
    "month = 2\n",
    "monthlen(year, month)"
   ]
  },
  {
   "cell_type": "code",
   "execution_count": null,
   "metadata": {},
   "outputs": [],
   "source": [
    "# export\n",
    "class InOutPath():\n",
    "    \"\"\"Keeps track of an input and a output path. Creates paths if they don't exist and mkdir=True\"\"\"\n",
    "    def __init__(self, input_path:str, output_path:str, mkdir=True):\n",
    "        if isinstance(input_path, str): input_path = Path(input_path)\n",
    "        if isinstance(output_path, str): output_path = Path(output_path)\n",
    "        self.input_path = input_path\n",
    "        self.output_path = output_path\n",
    "        if mkdir: self.mkdirs()\n",
    "\n",
    "    @property\n",
    "    def src(self):\n",
    "        \"Shortcut to input_path\"\n",
    "        return self.input_path\n",
    "\n",
    "    @property\n",
    "    def dst(self):\n",
    "        \"Shortcut to output_path\"\n",
    "        return self.output_path\n",
    "\n",
    "    def mkdirs(self):\n",
    "        self.input_path.mkdir(exist_ok=True, parents=True)\n",
    "        self.output_path.mkdir(exist_ok=True, parents=True)\n",
    "\n",
    "    def __truediv__(self, s):\n",
    "        return InOutPath(self.src/s, self.dst/s)\n",
    "\n",
    "    def __repr__(self):\n",
    "        return '\\n'.join([f'{i}: {o}' for i, o in self.__dict__.items()]) + '\\n'"
   ]
  },
  {
   "cell_type": "code",
   "execution_count": null,
   "metadata": {},
   "outputs": [
    {
     "data": {
      "text/markdown": [
       "<h4 id=\"InOutPath.src\" class=\"doc_header\"><code>InOutPath.src</code><a href=\"\" class=\"source_link\" style=\"float:right\">[source]</a></h4>\n",
       "\n",
       "Shortcut to input_path"
      ],
      "text/plain": [
       "<IPython.core.display.Markdown object>"
      ]
     },
     "metadata": {},
     "output_type": "display_data"
    },
    {
     "data": {
      "text/markdown": [
       "<h4 id=\"InOutPath.dst\" class=\"doc_header\"><code>InOutPath.dst</code><a href=\"\" class=\"source_link\" style=\"float:right\">[source]</a></h4>\n",
       "\n",
       "Shortcut to output_path"
      ],
      "text/plain": [
       "<IPython.core.display.Markdown object>"
      ]
     },
     "metadata": {},
     "output_type": "display_data"
    }
   ],
   "source": [
    "show_doc(InOutPath.src)\n",
    "show_doc(InOutPath.dst)"
   ]
  },
  {
   "cell_type": "code",
   "execution_count": null,
   "metadata": {},
   "outputs": [],
   "source": [
    "# export\n",
    "class ProjectPath():\n",
    "    def __init__(self, path:Path, config_dir='config', ladsweb_dir='ladsweb',\n",
    "                 hotspots_dir='hotspots', dataset_dir='dataset', outputs_dir='outputs',\n",
    "                 web_dir='web'):\n",
    "        if isinstance(path, str): path = Path(path)\n",
    "        self.path     = path\n",
    "        self.config   = path/config_dir\n",
    "        self.ladsweb  = path/ladsweb_dir\n",
    "        self.hotspots = path/hotspots_dir\n",
    "        self.dataset  = path/dataset_dir\n",
    "        self.outputs  = path/outputs_dir\n",
    "        self.web      = path/web_dir\n",
    "        self.create_dirs([self.path, self.config, self.ladsweb, self.hotspots,\n",
    "                          self.dataset, self.outputs, self.web])\n",
    "        \n",
    "    @staticmethod\n",
    "    def create_dirs(paths_list):\n",
    "        \"Create directories in list.\"\n",
    "        for o in paths_list: o.mkdir(exist_ok=True)"
   ]
  },
  {
   "cell_type": "code",
   "execution_count": null,
   "metadata": {},
   "outputs": [
    {
     "data": {
      "text/markdown": [
       "<h4 id=\"ProjectPath.create_dirs\" class=\"doc_header\"><code>ProjectPath.create_dirs</code><a href=\"__main__.py#L17\" class=\"source_link\" style=\"float:right\">[source]</a></h4>\n",
       "\n",
       "> <code>ProjectPath.create_dirs</code>(**`paths_list`**)\n",
       "\n",
       "Create directories in list."
      ],
      "text/plain": [
       "<IPython.core.display.Markdown object>"
      ]
     },
     "metadata": {},
     "output_type": "display_data"
    }
   ],
   "source": [
    "show_doc(ProjectPath.create_dirs)"
   ]
  },
  {
   "cell_type": "code",
   "execution_count": null,
   "metadata": {},
   "outputs": [],
   "source": [
    "paths = ProjectPath('data')\n",
    "test_eq(sorted([o.name for o in paths.path.iterdir()]), \n",
    "        ['config', 'dataset', 'hotspots', 'ladsweb', 'outputs', 'web'])"
   ]
  },
  {
   "cell_type": "code",
   "execution_count": null,
   "metadata": {},
   "outputs": [
    {
     "name": "stdout",
     "output_type": "stream",
     "text": [
      "Converted 00_core.ipynb.\n",
      "Converted 01_geo.ipynb.\n",
      "Converted 02_data.ipynb.\n",
      "Converted 03_models.ipynb.\n",
      "Converted 04_predict.ipynb.\n",
      "Converted 04b_nrt.ipynb.\n",
      "Converted 04c_historical.ipynb.\n",
      "Converted 05_train.ipynb.\n",
      "Converted 06_cli.ipynb.\n",
      "Converted 07_web.ipynb.\n",
      "Converted index.ipynb.\n",
      "Converted tutorial.australia2020.ipynb.\n",
      "Converted tutorial.australia2020_100m.ipynb.\n"
     ]
    }
   ],
   "source": [
    "# hide\n",
    "notebook2script()"
   ]
  }
 ],
 "metadata": {
  "kernelspec": {
   "display_name": "Python (banet_dev)",
   "language": "python",
   "name": "banet_dev"
  }
 },
 "nbformat": 4,
 "nbformat_minor": 2
}
