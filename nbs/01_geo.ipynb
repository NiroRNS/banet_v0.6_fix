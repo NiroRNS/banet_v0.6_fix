{
 "cells": [
  {
   "cell_type": "code",
   "execution_count": null,
   "metadata": {},
   "outputs": [],
   "source": [
    "# default_exp geo"
   ]
  },
  {
   "cell_type": "code",
   "execution_count": null,
   "metadata": {},
   "outputs": [],
   "source": [
    "# export\n",
    "import geopandas as gp\n",
    "import numpy as np\n",
    "import matplotlib.pyplot as plt\n",
    "import json\n",
    "import numpy as np\n",
    "import pandas as pd\n",
    "import shapely\n",
    "import rasterio\n",
    "import rasterio.features\n",
    "from rasterio import features\n",
    "from rasterio.mask import mask\n",
    "from rasterio.merge import merge\n",
    "from rasterio.coords import BoundingBox\n",
    "import warnings\n",
    "from fastcore.test import *\n",
    "\n",
    "from banet.core import *"
   ]
  },
  {
   "cell_type": "code",
   "execution_count": null,
   "metadata": {},
   "outputs": [],
   "source": [
    "# hide\n",
    "from nbdev.showdoc import show_doc\n",
    "from nbdev.export import notebook2script"
   ]
  },
  {
   "cell_type": "markdown",
   "metadata": {},
   "source": [
    "# Geo\n",
    "> This module provides classes and functions to facilitate working with geographical data."
   ]
  },
  {
   "cell_type": "code",
   "execution_count": null,
   "metadata": {},
   "outputs": [],
   "source": [
    "# export\n",
    "class Region():\n",
    "    \"\"\"Defines a geographical region with a name, a bounding box and the pixel size\"\"\"\n",
    "    def __init__(self, name:str, bbox:list, pixel_size:float):\n",
    "        self.name = name\n",
    "        self.bbox = rasterio.coords.BoundingBox(*bbox) # left, bottom, right, top\n",
    "        self.pixel_size = pixel_size\n",
    "\n",
    "    @property\n",
    "    def width(self):\n",
    "        \"Width of the region\"\n",
    "        return np.arange(self.bbox.left, self.bbox.right, self.pixel_size).shape[0]\n",
    "\n",
    "    @property\n",
    "    def height(self):\n",
    "        \"Height of the region\"\n",
    "        return np.arange(self.bbox.bottom, self.bbox.top, self.pixel_size).shape[0]\n",
    "\n",
    "    @property\n",
    "    def transform(self):\n",
    "        \"Rasterio Affine transform of the region\"\n",
    "        return rasterio.transform.from_bounds(*self.bbox, self.width, self.height)\n",
    "\n",
    "    @property\n",
    "    def shape(self):\n",
    "        \"Shape of the region (height, width)\"\n",
    "        return (self.height, self.width)\n",
    "\n",
    "    def coords(self, offset='ul'):\n",
    "        \"Computes longitude and latitude arrays given a shape and a rasterio Affine transform\"\n",
    "        rxy = rasterio.transform.xy\n",
    "        ys, xs = map(range, self.shape)\n",
    "        return (np.array(rxy(self.transform, [0]*len(xs), xs, offset=offset)[0]),\n",
    "                np.array(rxy(self.transform, ys, [0]*len(ys), offset=offset)[1]))\n",
    "\n",
    "    @classmethod\n",
    "    def load(cls, file):\n",
    "        \"Loads region information from json file\"\n",
    "        with open(file, 'r') as f:\n",
    "            args = json.load(f)\n",
    "        return cls(args['name'], args['bbox'], args['pixel_size'])\n",
    "\n",
    "    def export(self, file):\n",
    "        \"\"\"Exports region information to json file\"\"\"\n",
    "        dict2json(self.__dict__, file)\n",
    "\n",
    "    def __repr__(self):\n",
    "        return '\\n'.join([f'{i}: {o}' for i, o in self.__dict__.items()]) + '\\n'"
   ]
  },
  {
   "cell_type": "code",
   "execution_count": null,
   "metadata": {},
   "outputs": [
    {
     "data": {
      "text/markdown": [
       "<h4 id=\"Region.width\" class=\"doc_header\"><code>Region.width</code><a href=\"\" class=\"source_link\" style=\"float:right\">[source]</a></h4>\n",
       "\n",
       "Width of the region"
      ],
      "text/plain": [
       "<IPython.core.display.Markdown object>"
      ]
     },
     "metadata": {},
     "output_type": "display_data"
    },
    {
     "data": {
      "text/markdown": [
       "<h4 id=\"Region.height\" class=\"doc_header\"><code>Region.height</code><a href=\"\" class=\"source_link\" style=\"float:right\">[source]</a></h4>\n",
       "\n",
       "Height of the region"
      ],
      "text/plain": [
       "<IPython.core.display.Markdown object>"
      ]
     },
     "metadata": {},
     "output_type": "display_data"
    },
    {
     "data": {
      "text/markdown": [
       "<h4 id=\"Region.transform\" class=\"doc_header\"><code>Region.transform</code><a href=\"\" class=\"source_link\" style=\"float:right\">[source]</a></h4>\n",
       "\n",
       "Rasterio Affine transform of the region"
      ],
      "text/plain": [
       "<IPython.core.display.Markdown object>"
      ]
     },
     "metadata": {},
     "output_type": "display_data"
    },
    {
     "data": {
      "text/markdown": [
       "<h4 id=\"Region.shape\" class=\"doc_header\"><code>Region.shape</code><a href=\"\" class=\"source_link\" style=\"float:right\">[source]</a></h4>\n",
       "\n",
       "Shape of the region (height, width)"
      ],
      "text/plain": [
       "<IPython.core.display.Markdown object>"
      ]
     },
     "metadata": {},
     "output_type": "display_data"
    },
    {
     "data": {
      "text/markdown": [
       "<h4 id=\"Region.coords\" class=\"doc_header\"><code>Region.coords</code><a href=\"__main__.py#L29\" class=\"source_link\" style=\"float:right\">[source]</a></h4>\n",
       "\n",
       "> <code>Region.coords</code>(**`offset`**=*`'ul'`*)\n",
       "\n",
       "Computes longitude and latitude arrays given a shape and a rasterio Affine transform"
      ],
      "text/plain": [
       "<IPython.core.display.Markdown object>"
      ]
     },
     "metadata": {},
     "output_type": "display_data"
    },
    {
     "data": {
      "text/markdown": [
       "<h4 id=\"Region.export\" class=\"doc_header\"><code>Region.export</code><a href=\"__main__.py#L43\" class=\"source_link\" style=\"float:right\">[source]</a></h4>\n",
       "\n",
       "> <code>Region.export</code>(**`file`**)\n",
       "\n",
       "Exports region information to json file"
      ],
      "text/plain": [
       "<IPython.core.display.Markdown object>"
      ]
     },
     "metadata": {},
     "output_type": "display_data"
    },
    {
     "data": {
      "text/markdown": [
       "<h4 id=\"Region.load\" class=\"doc_header\"><code>Region.load</code><a href=\"__main__.py#L36\" class=\"source_link\" style=\"float:right\">[source]</a></h4>\n",
       "\n",
       "> <code>Region.load</code>(**`file`**)\n",
       "\n",
       "Loads region information from json file"
      ],
      "text/plain": [
       "<IPython.core.display.Markdown object>"
      ]
     },
     "metadata": {},
     "output_type": "display_data"
    }
   ],
   "source": [
    "show_doc(Region.width)\n",
    "show_doc(Region.height)\n",
    "show_doc(Region.transform)\n",
    "show_doc(Region.shape)\n",
    "show_doc(Region.coords)\n",
    "show_doc(Region.export)\n",
    "show_doc(Region.load)"
   ]
  },
  {
   "cell_type": "markdown",
   "metadata": {},
   "source": [
    "These are the 5 regions used in the article:\n",
    "```json\n",
    "//R_CA.json\n",
    "{\"name\": \"CA\", \"bbox\": [-125, 32, -113, 43], \"pixel_size\": 0.01}\n",
    "//R_PT.json\n",
    "{\"name\": \"PT\", \"bbox\": [-10, 36, -6, 44], \"pixel_size\": 0.01}\n",
    "//R_BR.json\n",
    "{\"name\": \"BR\", \"bbox\": [-58, -20, -44, -5], \"pixel_size\": 0.01}\n",
    "//R_MZ.json\n",
    "{\"name\": \"MZ\", \"bbox\": [30, -27, 41, -10], \"pixel_size\": 0.01}\n",
    "//R_AU.json\n",
    "{\"name\": \"AU\", \"bbox\": [113, -27, 154, -10], \"pixel_size\": 0.01}\n",
    "```"
   ]
  },
  {
   "cell_type": "markdown",
   "metadata": {},
   "source": [
    "Examples:"
   ]
  },
  {
   "cell_type": "code",
   "execution_count": null,
   "metadata": {},
   "outputs": [
    {
     "data": {
      "text/plain": [
       "name: PI\n",
       "bbox: BoundingBox(left=-10, bottom=36, right=5, top=44)\n",
       "pixel_size: 0.01"
      ]
     },
     "execution_count": null,
     "metadata": {},
     "output_type": "execute_result"
    }
   ],
   "source": [
    "r = Region(name='PI', bbox=[-10, 36, 5, 44], pixel_size=0.01)\n",
    "r"
   ]
  },
  {
   "cell_type": "code",
   "execution_count": null,
   "metadata": {},
   "outputs": [
    {
     "data": {
      "text/plain": [
       "(800, 1500)"
      ]
     },
     "execution_count": null,
     "metadata": {},
     "output_type": "execute_result"
    }
   ],
   "source": [
    "r.shape"
   ]
  },
  {
   "cell_type": "code",
   "execution_count": null,
   "metadata": {},
   "outputs": [],
   "source": [
    "test_eq(r.shape, (800, 1500))"
   ]
  },
  {
   "cell_type": "code",
   "execution_count": null,
   "metadata": {},
   "outputs": [
    {
     "data": {
      "text/plain": [
       "Affine(0.01, 0.0, -10.0,\n",
       "       0.0, -0.01, 44.0)"
      ]
     },
     "execution_count": null,
     "metadata": {},
     "output_type": "execute_result"
    }
   ],
   "source": [
    "r.transform"
   ]
  },
  {
   "cell_type": "code",
   "execution_count": null,
   "metadata": {},
   "outputs": [],
   "source": [
    "test_eq(r.transform, rasterio.Affine(0.01, 0.0, -10.0, 0.0, -0.01, 44.0))"
   ]
  },
  {
   "cell_type": "code",
   "execution_count": null,
   "metadata": {},
   "outputs": [
    {
     "data": {
      "text/plain": [
       "array([-10.  ,  -9.99,  -9.98, ...,   4.97,   4.98,   4.99])"
      ]
     },
     "execution_count": null,
     "metadata": {},
     "output_type": "execute_result"
    }
   ],
   "source": [
    "lon, lat = r.coords()\n",
    "lon"
   ]
  },
  {
   "cell_type": "markdown",
   "metadata": {},
   "source": [
    "## Geo functions"
   ]
  },
  {
   "cell_type": "code",
   "execution_count": null,
   "metadata": {},
   "outputs": [],
   "source": [
    "# export\n",
    "def open_shp(file):\n",
    "    \"Read shapefile\"\n",
    "    return gp.read_file(file)\n",
    "\n",
    "def open_tif(file):\n",
    "    \"Read tiff\"\n",
    "    return rasterio.open(file)\n",
    "\n",
    "def bounds_from_shapefile(shapefile):\n",
    "    \"Computes bounding box for shapefile\"\n",
    "    bounds = shapefile.bounds\n",
    "    return bounds.minx.min(), bounds.miny.min(), bounds.maxx.max(), bounds.maxy.max()\n",
    "\n",
    "def size_from_bounds(bounds, resolution):\n",
    "    \"Computes width and height from bounds for a given pixel resolution\"\n",
    "    mlon = np.mean([bounds[2], bounds[0]])\n",
    "    width = np.ceil((bounds[2]-bounds[0])*(111100/resolution)*np.cos(np.deg2rad(mlon))).astype(int)\n",
    "    height = np.ceil((bounds[3]-bounds[1])*(111100/resolution)).astype(int)\n",
    "    return width, height\n",
    "\n",
    "def size_resolution_assert(size, resolution):\n",
    "    if size is None and resolution is None:\n",
    "        raise Exception('You must define either size or resolution')\n",
    "    if size is not None and resolution is not None:\n",
    "        warnings.warn('resolution not used, computed based on size and bounds')\n",
    "\n",
    "def rasterize(x, value_key=None, region=None, merge_alg='replace'):\n",
    "    \"Rasterize shapefile\"\n",
    "    if merge_alg == 'replace':\n",
    "        merge_alg = rasterio.enums.MergeAlg.replace\n",
    "    elif merge_alg == 'add':\n",
    "        merge_alg = rasterio.enums.MergeAlg.add\n",
    "    values = [1]*len(x) if value_key is None else x[value_key]\n",
    "    shapes = (v for v in zip(x.geometry, values))\n",
    "    return rasterio.features.rasterize(shapes, out_shape=region.shape,\n",
    "            transform=region.transform, merge_alg=merge_alg)\n",
    "\n",
    "def downsample(x, src_tfm=None, dst_tfm=None, dst_shape=None,\n",
    "               src_crs={'init': 'EPSG:4326'}, dst_crs={'init': 'EPSG:4326'},\n",
    "               resampling='average'):\n",
    "    \"Donwsample a numpy array x\"\n",
    "    if resampling == 'average':\n",
    "        resampling = rasterio.warp.Resampling.average\n",
    "    elif resampling == 'bilinear':\n",
    "        resampling = rasterio.warp.Resampling.bilinear\n",
    "    elif resampling == 'nearest':\n",
    "        resampling = rasterio.warp.Resampling.nearest\n",
    "    out = np.zeros(dst_shape)\n",
    "    rasterio.warp.reproject(x, out, src_transform=src_tfm, dst_transform=dst_tfm,\n",
    "                            src_crs=src_crs, dst_crs=dst_crs, resampling=resampling)\n",
    "    return out\n",
    "\n",
    "def is_intersection(gdf1, gdf2):\n",
    "    \"Find the intersection between two geo pandas dataframes\"\n",
    "    return len(gp.overlay(gdf1, gdf2, how='intersection')) > 0\n",
    "\n",
    "def polygon_from_bounds(bounds, to_GeoDataFrame=False, crs={'init': 'EPSG:4326'}):\n",
    "    \"Create a polygon object from bounds\"\n",
    "    b_ind = [[0,1],[2,1],[2,3],[0,3]]\n",
    "    shape = shapely.geometry.Polygon([(bounds[i],bounds[j]) for i, j in b_ind])\n",
    "    if to_GeoDataFrame: shape = gp.GeoDataFrame(crs=crs, geometry=[shape])\n",
    "    return shape\n",
    "\n",
    "def crop(x, bounds=None, shape=None, crop=True):\n",
    "    \"\"\"\n",
    "    Crop rasterio dataset for a region defined by bounds.\n",
    "        x is a dataset or a list of datasets (rasterio.open).\n",
    "        If list then merge with bounds is used.\n",
    "        else mask is used to crop given bounds or any given shape.\n",
    "    \"\"\"\n",
    "    if len(x) == 1 and isinstance(x, list):\n",
    "        x = x[0]\n",
    "    if isinstance(x, list):\n",
    "        out, transform = merge(x, bounds)\n",
    "    else:\n",
    "        if bounds is not None: shape = polygon_from_bounds(bounds)\n",
    "        out, transform = mask(x, shapes=[shape], crop=crop)\n",
    "    return out.squeeze(), transform\n",
    "\n",
    "def bounds_from_coords(lon, lat):\n",
    "    \"Compute bounds list form lon lat coords\"\n",
    "    return lon.min(), lat.min(), lon.max(), lat.max()"
   ]
  },
  {
   "cell_type": "code",
   "execution_count": null,
   "metadata": {},
   "outputs": [
    {
     "name": "stdout",
     "output_type": "stream",
     "text": [
      "Converted 00_core.ipynb.\n",
      "Converted 01_geo.ipynb.\n",
      "Converted 02_data.ipynb.\n",
      "Converted 03_models.ipynb.\n",
      "Converted 04_predict.ipynb.\n",
      "Converted 04b_nrt.ipynb.\n",
      "Converted 05_train.ipynb.\n",
      "Converted 06_cli.ipynb.\n",
      "Converted index.ipynb.\n",
      "Converted tutorial.australia2020.ipynb.\n"
     ]
    }
   ],
   "source": [
    "# hide\n",
    "notebook2script()"
   ]
  }
 ],
 "metadata": {
  "kernelspec": {
   "display_name": "Python (fastai_dev)",
   "language": "python",
   "name": "fastai_dev"
  }
 },
 "nbformat": 4,
 "nbformat_minor": 2
}
