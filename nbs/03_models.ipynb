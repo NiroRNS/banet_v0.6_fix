{
 "cells": [
  {
   "cell_type": "code",
   "execution_count": null,
   "metadata": {},
   "outputs": [],
   "source": [
    "# default_exp models"
   ]
  },
  {
   "cell_type": "markdown",
   "metadata": {},
   "source": [
    "# Models\n",
    ">This module include the definition of the BA-Net model."
   ]
  },
  {
   "cell_type": "code",
   "execution_count": null,
   "metadata": {},
   "outputs": [],
   "source": [
    "# export\n",
    "from fastai.vision.all import *"
   ]
  },
  {
   "cell_type": "code",
   "execution_count": null,
   "metadata": {},
   "outputs": [],
   "source": [
    "# hide\n",
    "from nbdev.showdoc import show_doc\n",
    "from nbdev.export import notebook2script"
   ]
  },
  {
   "cell_type": "code",
   "execution_count": null,
   "metadata": {},
   "outputs": [],
   "source": [
    "# export\n",
    "DROP = 0.2 # Dropout"
   ]
  },
  {
   "cell_type": "code",
   "execution_count": null,
   "metadata": {},
   "outputs": [],
   "source": [
    "# export\n",
    "class BTNorm2d(Module):\n",
    "    \"BatchTimeNorm2d module.\"\n",
    "    def __init__(self, channels):\n",
    "        self.bn = nn.BatchNorm2d(channels)\n",
    "\n",
    "    def forward(self, x):\n",
    "        n_sequences, ch, sequence_len, sz1, sz2 = x.size()\n",
    "        x = x.permute(0,2,1,3,4).contiguous().view(n_sequences*sequence_len, ch, sz1, sz2)\n",
    "        x = self.bn(x)\n",
    "        x = x.view(n_sequences, sequence_len, ch, sz1, sz2).permute(0,2,1,3,4).contiguous()\n",
    "        return x\n",
    "\n",
    "class LSTM(Module):\n",
    "    \"LSTM module.\"\n",
    "    def __init__(self, ni, nf):\n",
    "        self.lstm = nn.LSTM(ni, nf, num_layers=1, bidirectional=False, batch_first=True)\n",
    "\n",
    "    def forward(self, x):\n",
    "        bs, ch, ts, sz1, sz2 = x.size()\n",
    "        x = x.permute(0, 3, 4, 2, 1).contiguous().view(bs*sz1*sz2, ts, ch)\n",
    "        x, (h, c) = self.lstm(x)\n",
    "        x = x.view(bs, sz1, sz2, ts, ch).permute(0, 4, 3, 1, 2).contiguous()\n",
    "        return x, h\n",
    "\n",
    "class SpaceConv(Module):\n",
    "    \"SpaceConv module.\"\n",
    "    def __init__(self, in_ch, out_ch, kernel_sz, stride):\n",
    "        spaceConv = nn.Conv3d(in_ch, out_ch, kernel_size=(1, kernel_sz, kernel_sz),\n",
    "                              stride=(1, stride, stride),\n",
    "                              padding=(0, kernel_sz//2, kernel_sz//2), bias=False)\n",
    "        layers = [spaceConv, BTNorm2d(out_ch), nn.ReLU(inplace=True)]\n",
    "        self.conv = nn.Sequential(*layers)\n",
    "    def forward(self, x): return self.conv(x)\n",
    "\n",
    "class UpSpaceConv(Module):\n",
    "    \"UpSpaceConv module.\"\n",
    "    def __init__(self, in_ch, out_ch):\n",
    "        upConv = nn.ConvTranspose3d(in_ch, out_ch, kernel_size=(1, 2, 2), stride=(1, 2, 2), bias=False)\n",
    "        layers = [upConv, BTNorm2d(out_ch), nn.ReLU(inplace=True)]\n",
    "        self.conv = nn.Sequential(*layers)\n",
    "    def forward(self, x): return self.conv(x)\n",
    "\n",
    "class TimeConv(Module):\n",
    "    \"TimeConv module.\"\n",
    "    def __init__(self, in_ch, out_ch, kernel_sz, stride, use_lstm):\n",
    "        self.use_lstm = use_lstm\n",
    "        self.timeConv = nn.Conv3d(out_ch, out_ch, kernel_size=(kernel_sz, 1, 1),\n",
    "                            stride=(stride, 1, 1),\n",
    "                            padding=(kernel_sz//2, 0, 0), bias=False)\n",
    "        if self.use_lstm: self.timeLstm = LSTM(out_ch, out_ch)\n",
    "        self.bn = BTNorm2d(out_ch)\n",
    "        self.relu = nn.ReLU(inplace=True)\n",
    "    def forward(self, x):\n",
    "        if self.use_lstm:\n",
    "            x, _ = self.timeLstm(x)\n",
    "        x = self.timeConv(x)\n",
    "        x = self.bn(x)\n",
    "        x = self.relu(x)\n",
    "        return x\n",
    "\n",
    "class UpTimeConv(Module):\n",
    "    \"UpTimeConv module.\"\n",
    "    def __init__(self, in_ch, out_ch):\n",
    "        upTimeConv = nn.ConvTranspose3d(in_ch, out_ch, kernel_size=(2, 1, 1), stride=(2, 1, 1), bias=False)\n",
    "        layers = [upTimeConv, BTNorm2d(out_ch), nn.ReLU(inplace=True)]\n",
    "        self.conv = nn.Sequential(*layers)\n",
    "    def forward(self, x): return self.conv(x)\n",
    "\n",
    "class SpaceTimeConv(Module):\n",
    "    \"SpaceTimeConv module.\"\n",
    "    def __init__(self, in_ch, out_ch, kernel_sz, time_sz, stride, time_stride, time_ch, use_lstm=False):\n",
    "        spaceConv = SpaceConv(in_ch, out_ch, kernel_sz, stride)\n",
    "        timeConv = TimeConv(out_ch, out_ch, time_sz, time_stride, use_lstm)\n",
    "        layers = [spaceConv, timeConv, nn.Dropout3d(DROP)]\n",
    "        self.stconv = nn.Sequential(*layers)\n",
    "    def forward(self, x): return self.stconv(x)\n",
    "\n",
    "class UpSpaceTimeConv(Module):\n",
    "    \"UpSpaceTimeConv module.\"\n",
    "    def __init__(self, in_ch, out_ch, time_ch):\n",
    "        upSpaceConv = UpSpaceConv(in_ch, out_ch)\n",
    "        upTimeConv = UpTimeConv(out_ch, out_ch)\n",
    "        layers = [upSpaceConv, upTimeConv, nn.Dropout3d(DROP)]\n",
    "        self.upstconv = nn.Sequential(*layers)\n",
    "    def forward(self, x): return self.upstconv(x)"
   ]
  },
  {
   "cell_type": "code",
   "execution_count": null,
   "metadata": {},
   "outputs": [],
   "source": [
    "# export\n",
    "class BA_Net(Module):\n",
    "    \"BA-Net model.\"\n",
    "    def __init__(self, in_ch, n_classes, sequence_len):\n",
    "        n=1\n",
    "        self.stconv1 = SpaceTimeConv(in_ch, n*32, 7, 7, 1, 1, sequence_len, use_lstm=True)\n",
    "        self.stconv2 = SpaceTimeConv(n*32, n*64, 3, 7, 2, 2, sequence_len//2)\n",
    "        self.stconv3 = SpaceTimeConv(n*64, n*128, 3, 5, 2, 2, sequence_len//4)\n",
    "        self.stconv4 = SpaceTimeConv(n*128,n*256, 3, 3, 2, 2, sequence_len//8)\n",
    "        self.stconv5 = SpaceTimeConv(n*256,n*256, 3, 3, 2, 2, sequence_len//16)\n",
    "        self.stconv6 = SpaceConv(n*256, n*256, 3, 2)\n",
    "        self.ustconv6 = UpSpaceConv(n*256, n*256)\n",
    "        self.ustconv5 = UpSpaceTimeConv(n*512, n*256, sequence_len//8)\n",
    "        self.ustconv4 = UpSpaceTimeConv(n*512, n*128, sequence_len//4)\n",
    "        self.ustconv3 = UpSpaceTimeConv(n*256, n*64, sequence_len//2)\n",
    "        self.ustconv2 = UpSpaceTimeConv(n*128, n*32, sequence_len)\n",
    "        self.conv3 = nn.Conv3d(n*64, n*64, kernel_size=(3,1,1), padding=(3//2, 0, 0), bias=False)\n",
    "        self.bn = BTNorm2d(n*64)\n",
    "        self.relu = nn.ReLU(inplace=True)\n",
    "        self.final_conv = nn.Conv3d(n*64, n_classes, kernel_size=1)\n",
    "\n",
    "    def forward(self, x):\n",
    "        c1 = self.stconv1(x)\n",
    "        c2 = self.stconv2(c1)\n",
    "        c3 = self.stconv3(c2)\n",
    "        c4 = self.stconv4(c3)\n",
    "        c5 = self.stconv5(c4)\n",
    "        c6 = self.stconv6(c5)\n",
    "        up = self.ustconv6(c6)\n",
    "        up = torch.cat((c5, up), dim=1)\n",
    "        up = self.ustconv5(up)\n",
    "        up = torch.cat((c4, up), dim=1)\n",
    "        up = self.ustconv4(up)\n",
    "        up = torch.cat((c3, up), dim=1)\n",
    "        up = self.ustconv3(up)\n",
    "        up = torch.cat((c2, up), dim=1)\n",
    "        up = self.ustconv2(up)\n",
    "        up = torch.cat((c1, up), dim=1)\n",
    "        up = self.final_conv(self.relu(self.bn(self.conv3(up))))\n",
    "        return up"
   ]
  },
  {
   "cell_type": "code",
   "execution_count": null,
   "metadata": {},
   "outputs": [
    {
     "name": "stdout",
     "output_type": "stream",
     "text": [
      "Converted 00_core.ipynb.\n",
      "Converted 01_geo.ipynb.\n",
      "Converted 02_data.ipynb.\n",
      "Converted 03_models.ipynb.\n",
      "Converted 04_predict.ipynb.\n",
      "Converted 04b_nrt.ipynb.\n",
      "Converted 04c_historical.ipynb.\n",
      "Converted 05_train.ipynb.\n",
      "Converted 06_cli.ipynb.\n",
      "Converted 07_web.ipynb.\n",
      "Converted index.ipynb.\n",
      "Converted tutorial.australia2020.ipynb.\n",
      "Converted tutorial.australia2020_100m.ipynb.\n"
     ]
    }
   ],
   "source": [
    "# hide\n",
    "notebook2script()"
   ]
  }
 ],
 "metadata": {
  "kernelspec": {
   "display_name": "Python (banet_dev)",
   "language": "python",
   "name": "banet_dev"
  }
 },
 "nbformat": 4,
 "nbformat_minor": 2
}
