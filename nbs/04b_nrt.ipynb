{
 "cells": [
  {
   "cell_type": "code",
   "execution_count": null,
   "metadata": {},
   "outputs": [],
   "source": [
    "# default_exp nrt"
   ]
  },
  {
   "cell_type": "markdown",
   "metadata": {},
   "source": [
    "# Predict NRT\n",
    ">This module has functions to generate the burned areas predictions for near real time operational applications."
   ]
  },
  {
   "cell_type": "code",
   "execution_count": null,
   "metadata": {},
   "outputs": [],
   "source": [
    "# export\n",
    "import pandas as pd\n",
    "import numpy as np\n",
    "import scipy.io as sio\n",
    "import rasterio\n",
    "import requests\n",
    "import IPython\n",
    "import matplotlib.pyplot as plt\n",
    "from nbdev.imports import test_eq\n",
    "import datetime\n",
    "from geoget.download import run_all\n",
    "from banet.core import filter_files, ls, Path, InOutPath, ProjectPath\n",
    "from banet.geo import Region\n",
    "from banet.data import *\n",
    "from banet.predict import predict_nrt\n",
    "from banet.web import array2png\n",
    "from fire_split.core import split_fires, save_data, to_polygon\n",
    "import pdb\n",
    "Path.ls = ls"
   ]
  },
  {
   "cell_type": "code",
   "execution_count": null,
   "metadata": {},
   "outputs": [],
   "source": [
    "# hide\n",
    "from nbdev.showdoc import show_doc\n",
    "from nbdev.export import notebook2script\n",
    "from IPython.core.debugger import set_trace"
   ]
  },
  {
   "cell_type": "code",
   "execution_count": null,
   "metadata": {},
   "outputs": [],
   "source": [
    "# export\n",
    "class RunManager():\n",
    "    def __init__(self, project_path:ProjectPath, region, time='today', \n",
    "                 product:str='VIIRS750', days=64, max_size=2000):\n",
    "        self.path    = project_path\n",
    "        self.time    = self.init_time(time)\n",
    "        self.product = product\n",
    "        self.region  = region\n",
    "        self.days    = days\n",
    "        self.max_size= max_size\n",
    "        \n",
    "    @property\n",
    "    def R(self):\n",
    "         return Region.load(f'{self.path.config}/R_{self.region}.json')\n",
    "        \n",
    "    def init_time(self, time):\n",
    "        if time == 'today': \n",
    "            time = pd.Timestamp(datetime.date.today())\n",
    "        elif time == 'yesterday':\n",
    "            time = pd.Timestamp(datetime.date.today())-pd.Timedelta(days=1)\n",
    "        return time\n",
    "                \n",
    "    def last_n_days(self, time:pd.Timestamp, days):\n",
    "        return pd.date_range(start=time-pd.Timedelta(days=days-1), periods=days,\n",
    "                              freq='D')\n",
    "    \n",
    "    def check_data(self):\n",
    "        \"Check existing and missing files in dataset folder.\"\n",
    "        times = self.last_n_days(self.time, self.days)\n",
    "        files, missing_files = [], []\n",
    "        for t in times:\n",
    "            tstr = t.strftime('%Y%m%d')\n",
    "            file = self.path.dataset/f'{self.product}{self.region}_{tstr}.nc'\n",
    "            if file.is_file():\n",
    "                files.append(file)\n",
    "            else:\n",
    "                missing_files.append(file)\n",
    "        return {'files': files, 'missing_files': missing_files}\n",
    "    \n",
    "    def get_download_dates(self):\n",
    "        \"Find for which new dates the files need to be downloaded.\"\n",
    "        files = self.check_data()['files']\n",
    "        if len(files) == 0: \n",
    "            start = self.last_n_days(self.time, self.days)[0]\n",
    "        else:\n",
    "            start = pd.Timestamp(files[-1].stem.split('_')[-1])+pd.Timedelta(days=1)\n",
    "        start = start.strftime('%Y-%m-%d 00:00:00')\n",
    "        end = self.time.strftime('%Y-%m-%d 23:59:59')\n",
    "        return start, end\n",
    "    \n",
    "    def update_hotspots(self, location, mode='7d', save=True):\n",
    "        \"\"\"Update hotspots file with new data. \n",
    "          location is according to the data url naming format\n",
    "          mode can be on of: 24h, 48h, 7d\"\"\"\n",
    "        url = f'https://firms.modaps.eosdis.nasa.gov/' \\\n",
    "                   f'active_fire/viirs/text/VNP14IMGTDL_NRT_{location}_{mode}.csv'\n",
    "        files = self.path.hotspots.ls(include=['.csv', f'hotspots{self.region}'])\n",
    "        frp = [pd.read_csv(f) for f in files]\n",
    "        frp = pd.concat([*frp, pd.read_csv(url)], axis=0, sort=False\n",
    "                        ).drop_duplicates().reset_index(drop=True)\n",
    "        if save:\n",
    "            frp.to_csv(self.path.hotspots/f'hotspots{self.region}.csv', index=False)\n",
    "            print(f'hotspots{self.region}.csv updated')\n",
    "        else: return frp\n",
    "        \n",
    "    def download_viirs(self):\n",
    "        \"Download viirs data needed for the dataset.\"\n",
    "        tstart, tend = self.get_download_dates()\n",
    "        region = self.R.new()\n",
    "        \n",
    "        if self.product == 'VIIRS750':\n",
    "            viirs_downloader = VIIRS750_download(region, tstart, tend)\n",
    "            viirs_downloader_list = viirs_downloader.split_times()\n",
    "            \n",
    "        elif self.product == 'VIIRS375':\n",
    "            viirs_downloader1 = VIIRS375_download(region, tstart, tend)\n",
    "            region.pixel_size = 0.1 # Angles can be interpolated later\n",
    "            viirs_downloader2 = VIIRS750_download(region, tstart, tend, \n",
    "                                bands=['SolarZenithAngle', 'SatelliteZenithAngle'])\n",
    "            viirs_downloader_list1 = viirs_downloader1.split_times()\n",
    "            viirs_downloader_list2 = viirs_downloader2.split_times()\n",
    "            viirs_downloader_list = [*viirs_downloader_list1, *viirs_downloader_list2]\n",
    "            \n",
    "        else: raise NotImplementedError(f'Not implemented for {self.product}.')\n",
    "            \n",
    "        run_all(viirs_downloader_list, self.path.ladsweb)\n",
    "        \n",
    "    def preprocess_dataset_750(self):\n",
    "        \"Apply pre-processing to the rawdata and saves results in dataset directory.\"\n",
    "        paths = InOutPath(f'{self.path.ladsweb}', f'{self.path.dataset}')\n",
    "        R = self.R.new()\n",
    "        bands = ['Reflectance_M5', 'Reflectance_M7', 'Reflectance_M10', 'Radiance_M12',\n",
    "                 'Radiance_M15', 'SolarZenithAngle', 'SatelliteZenithAngle']\n",
    "        print('\\nPre-processing data...')\n",
    "        viirs = Viirs750Dataset(paths, R, bands=bands)\n",
    "        merge_tiles = MergeTiles('SatelliteZenithAngle')\n",
    "        mir_calc = MirCalc('SolarZenithAngle', 'Radiance_M12', 'Radiance_M15')\n",
    "        rename = BandsRename(['Reflectance_M5', 'Reflectance_M7'], ['Red', 'NIR'])\n",
    "        bfilter = BandsFilter(['Red', 'NIR', 'MIR'])\n",
    "        act_fires = ActiveFiresLog(f'{self.path.hotspots}/hotspots{self.region}.csv')\n",
    "        viirs.process_all(proc_funcs=[merge_tiles, mir_calc, rename, bfilter, act_fires])\n",
    "        \n",
    "    def preprocess_dataset_375(self):\n",
    "        \"Apply pre-processing to the rawdata and saves results in dataset directory.\"\n",
    "        paths = InOutPath(f'{self.path.ladsweb}', f'{self.path.dataset}')\n",
    "        R = self.R.new()\n",
    "        bands = ['Reflectance_I1', 'Reflectance_I2', 'Reflectance_I3',\n",
    "                 'Radiance_I4', 'Radiance_I5', 'SolarZenithAngle', 'SatelliteZenithAngle']\n",
    "        print('\\nPre-processing data...')\n",
    "        viirs = Viirs375Dataset(paths, R, bands=bands)\n",
    "        interpAng = InterpolateAngles(R.new(pixel_size=0.1), R, \n",
    "                              ['SolarZenithAngle', 'SatelliteZenithAngle'])\n",
    "        merge_tiles = MergeTiles('SatelliteZenithAngle')\n",
    "        mir_calc = MirCalc('SolarZenithAngle', 'Radiance_I4', 'Radiance_I5')\n",
    "        rename = BandsRename(['Reflectance_I1', 'Reflectance_I2'], ['Red', 'NIR'])\n",
    "        bfilter = BandsFilter(['Red', 'NIR', 'MIR'])\n",
    "        act_fires = ActiveFiresLog(f'{self.path.hotspots}/hotspots{self.region}.csv')\n",
    "        viirs.process_all(proc_funcs=[interpAng, BandsAssertShape(), merge_tiles, \n",
    "                                      mir_calc, rename, bfilter, act_fires])\n",
    "        \n",
    "    def preprocess_dataset(self):\n",
    "        if self.product == 'VIIRS750':\n",
    "            self.preprocess_dataset_750()\n",
    "        elif self.product == 'VIIRS375':\n",
    "            self.preprocess_dataset_375()\n",
    "        else: raise NotImplementedError(f'Not implemented for {self.product}.')\n",
    "        \n",
    "    def init_model_weights(self, weight_files:list):\n",
    "        \"Downloads model weights if they don't exist yet on config directory.\"\n",
    "        local_files = []\n",
    "        for w in weight_files:\n",
    "            file_save = self.path.config/w\n",
    "            if not file_save.is_file():\n",
    "                print(f'Downloading model weights {w}')\n",
    "                url = f'https://github.com/mnpinto/banet_weights/raw/master/model/{w}'\n",
    "                file = requests.get(url)\n",
    "                open(str(file_save), 'wb').write(file.content)\n",
    "            local_files.append(file_save)\n",
    "        return local_files\n",
    "    \n",
    "    def get_preds(self, weight_files:list, threshold=0.5, save=True, max_size=2000):\n",
    "        \"Computes BA-Net predictions ensembling the models in the weight_files list.\"\n",
    "        local_files = self.init_model_weights(weight_files)\n",
    "        iop = InOutPath(self.path.dataset, self.path.outputs, mkdir=False)\n",
    "        region = self.R.new()\n",
    "        predict_nrt(iop, self.time, local_files, region, threshold=threshold,\n",
    "                    save=save, max_size=max_size, product=self.product)\n",
    "\n",
    "    def postprocess(self, filename, threshold=0.5, interval_days=2, interval_pixels=2, \n",
    "                    min_size_pixels=25, area_epsg=None, keys=['burned', 'date'], \n",
    "                    geotiff_only=False, padding=1):\n",
    "        \"Computes tifs and shapefiles from outputs.\"\n",
    "        data = sio.loadmat(self.path.outputs/f'{filename}.mat')\n",
    "        times = pd.DatetimeIndex([pd.Timestamp(str(o)) for o in data['times']])\n",
    "        unique_years = times.year.unique()\n",
    "        if len(unique_years) > 2: raise NotImplementedError(\n",
    "            'Not implemented for more than 2 years range')\n",
    "        burned = data[keys[0]]\n",
    "        date = data[keys[1]] \n",
    "        I = burned < threshold\n",
    "        date[I] = np.nan\n",
    "        It = date[date>=0].astype(np.uint16)\n",
    "        if len(unique_years) > 1:\n",
    "            m = (times.year[It] == unique_years[1])*pd.Timestamp(f'{unique_years[1]}-12-31').dayofyear\n",
    "        else: m = 0\n",
    "        date[date>=0] = times[It].dayofyear + m\n",
    "        date[np.isnan(date)] = 0\n",
    "        date = date.astype(np.uint16)\n",
    "        burned = (burned*255).astype(np.uint8)\n",
    "        region = self.R.new()\n",
    "        if geotiff_only:\n",
    "            raster = np.array([burned, date])\n",
    "            save_data(self.path.web/f'{filename}.tif', raster, crs=region.crs,\n",
    "                                   transform=region.transform)\n",
    "        else:\n",
    "            labels, df = split_fires(date, interval_days=interval_days, \n",
    "                         interval_pixels=interval_pixels,\n",
    "                         min_size_pixels=min_size_pixels)            \n",
    "            burned[labels==0] = 0\n",
    "            date[labels==0] = 0\n",
    "            raster = np.array([burned, date])\n",
    "            save_data(self.path.web/f'{filename}.tif', raster, crs=region.crs,\n",
    "                                   transform=region.transform)\n",
    "            for i in range(labels.max()):\n",
    "                l = (i+1)\n",
    "                f = labels == l\n",
    "                args = np.argwhere(f)\n",
    "                lon, lat = region.coords()\n",
    "                (rmin, cmin), (rmax, cmax) = args.min(0), args.max(0)\n",
    "                rmax += 1\n",
    "                cmax += 1\n",
    "                rmin = max(rmin, 1)\n",
    "                cmin = max(cmin, 1)\n",
    "                lat_r = lat[rmin-padding:rmax+padding]\n",
    "                lon_r = lon[cmin-padding:cmax+padding]\n",
    "                tfm = rasterio.Affine(region.pixel_size, 0, lon_r.min(), 0, -region.pixel_size, lat_r.max())\n",
    "                burned_r = data[keys[0]][rmin-padding:rmax+padding, cmin-padding:cmax+padding].copy().astype(np.float16)\n",
    "                date_r =  data[keys[1]][rmin-padding:rmax+padding, cmin-padding:cmax+padding].copy().astype(np.float16)\n",
    "                burned_r[f[rmin-padding:rmax+padding, cmin-padding:cmax+padding]==0] = np.nan\n",
    "                date_r[f[rmin-padding:rmax+padding, cmin-padding:cmax+padding]==0] = np.nan\n",
    "\n",
    "                burned_r = burned_r*255\n",
    "                burned_r[np.isnan(burned_r)] = 0\n",
    "                burned_r = burned_r.astype(np.uint16)\n",
    "                date_r[np.isnan(date_r)] = 0\n",
    "                date_r = date_r.astype(np.uint16)\n",
    "                raster = np.array((burned_r, date_r))\n",
    "\n",
    "                (self.path.web/'events').mkdir(exist_ok=True)\n",
    "                save_data(self.path.web/'events'/f'{filename}_{l}.tif', \n",
    "                          raster, crs=region.crs, transform=tfm)\n",
    "                im = array2png(burned_r, cmap='RdYlGn_r')\n",
    "                im.save(self.path.web/'events'/f'{filename}_{l}_cl.png')\n",
    "                im = array2png(date_r, cmap='jet')\n",
    "                im.save(self.path.web/'events'/f'{filename}_{l}_bd.png')\n",
    "\n",
    "            df = to_polygon(labels, region.crs, region.transform, df, area_epsg=area_epsg)\n",
    "            df['area_ha'] = df['area_ha'].astype(np.uint32)\n",
    "            df.to_file(self.path.web/f'{filename}.shp')\n",
    "            df.to_file(self.path.web/f'{filename}.json', driver='GeoJSON')"
   ]
  },
  {
   "cell_type": "code",
   "execution_count": null,
   "metadata": {},
   "outputs": [
    {
     "data": {
      "text/markdown": [
       "<h4 id=\"RunManager.check_data\" class=\"doc_header\"><code>RunManager.check_data</code><a href=\"__main__.py#L27\" class=\"source_link\" style=\"float:right\">[source]</a></h4>\n",
       "\n",
       "> <code>RunManager.check_data</code>()\n",
       "\n",
       "Check existing and missing files in dataset folder."
      ],
      "text/plain": [
       "<IPython.core.display.Markdown object>"
      ]
     },
     "metadata": {},
     "output_type": "display_data"
    },
    {
     "data": {
      "text/markdown": [
       "<h4 id=\"RunManager.check_data\" class=\"doc_header\"><code>RunManager.check_data</code><a href=\"__main__.py#L27\" class=\"source_link\" style=\"float:right\">[source]</a></h4>\n",
       "\n",
       "> <code>RunManager.check_data</code>()\n",
       "\n",
       "Check existing and missing files in dataset folder."
      ],
      "text/plain": [
       "<IPython.core.display.Markdown object>"
      ]
     },
     "metadata": {},
     "output_type": "display_data"
    },
    {
     "data": {
      "text/markdown": [
       "<h4 id=\"RunManager.update_hotspots\" class=\"doc_header\"><code>RunManager.update_hotspots</code><a href=\"__main__.py#L51\" class=\"source_link\" style=\"float:right\">[source]</a></h4>\n",
       "\n",
       "> <code>RunManager.update_hotspots</code>(**`location`**, **`mode`**=*`'7d'`*, **`save`**=*`True`*)\n",
       "\n",
       "Update hotspots file with new data. \n",
       "location is according to the data url naming format\n",
       "mode can be on of: 24h, 48h, 7d"
      ],
      "text/plain": [
       "<IPython.core.display.Markdown object>"
      ]
     },
     "metadata": {},
     "output_type": "display_data"
    },
    {
     "data": {
      "text/markdown": [
       "<h4 id=\"RunManager.download_viirs\" class=\"doc_header\"><code>RunManager.download_viirs</code><a href=\"__main__.py#L66\" class=\"source_link\" style=\"float:right\">[source]</a></h4>\n",
       "\n",
       "> <code>RunManager.download_viirs</code>()\n",
       "\n",
       "Download viirs data needed for the dataset."
      ],
      "text/plain": [
       "<IPython.core.display.Markdown object>"
      ]
     },
     "metadata": {},
     "output_type": "display_data"
    },
    {
     "data": {
      "text/markdown": [
       "<h4 id=\"RunManager.preprocess_dataset\" class=\"doc_header\"><code>RunManager.preprocess_dataset</code><a href=\"__main__.py#L121\" class=\"source_link\" style=\"float:right\">[source]</a></h4>\n",
       "\n",
       "> <code>RunManager.preprocess_dataset</code>()\n",
       "\n"
      ],
      "text/plain": [
       "<IPython.core.display.Markdown object>"
      ]
     },
     "metadata": {},
     "output_type": "display_data"
    },
    {
     "data": {
      "text/markdown": [
       "<h4 id=\"RunManager.init_model_weights\" class=\"doc_header\"><code>RunManager.init_model_weights</code><a href=\"__main__.py#L128\" class=\"source_link\" style=\"float:right\">[source]</a></h4>\n",
       "\n",
       "> <code>RunManager.init_model_weights</code>(**`weight_files`**:`list`)\n",
       "\n",
       "Downloads model weights if they don't exist yet on config directory."
      ],
      "text/plain": [
       "<IPython.core.display.Markdown object>"
      ]
     },
     "metadata": {},
     "output_type": "display_data"
    },
    {
     "data": {
      "text/markdown": [
       "<h4 id=\"RunManager.get_preds\" class=\"doc_header\"><code>RunManager.get_preds</code><a href=\"__main__.py#L141\" class=\"source_link\" style=\"float:right\">[source]</a></h4>\n",
       "\n",
       "> <code>RunManager.get_preds</code>(**`weight_files`**:`list`, **`threshold`**=*`0.5`*, **`save`**=*`True`*, **`max_size`**=*`2000`*)\n",
       "\n",
       "Computes BA-Net predictions ensembling the models in the weight_files list."
      ],
      "text/plain": [
       "<IPython.core.display.Markdown object>"
      ]
     },
     "metadata": {},
     "output_type": "display_data"
    },
    {
     "data": {
      "text/markdown": [
       "<h4 id=\"RunManager.postprocess\" class=\"doc_header\"><code>RunManager.postprocess</code><a href=\"__main__.py#L149\" class=\"source_link\" style=\"float:right\">[source]</a></h4>\n",
       "\n",
       "> <code>RunManager.postprocess</code>(**`filename`**, **`threshold`**=*`0.5`*, **`interval_days`**=*`2`*, **`interval_pixels`**=*`2`*, **`min_size_pixels`**=*`25`*, **`area_epsg`**=*`None`*, **`keys`**=*`['burned', 'date']`*, **`geotiff_only`**=*`False`*, **`padding`**=*`1`*)\n",
       "\n",
       "Computes tifs and shapefiles from outputs."
      ],
      "text/plain": [
       "<IPython.core.display.Markdown object>"
      ]
     },
     "metadata": {},
     "output_type": "display_data"
    }
   ],
   "source": [
    "show_doc(RunManager.check_data)\n",
    "show_doc(RunManager.check_data)\n",
    "show_doc(RunManager.update_hotspots)\n",
    "show_doc(RunManager.download_viirs)\n",
    "show_doc(RunManager.preprocess_dataset)\n",
    "show_doc(RunManager.init_model_weights)\n",
    "show_doc(RunManager.get_preds)\n",
    "show_doc(RunManager.postprocess)"
   ]
  },
  {
   "cell_type": "code",
   "execution_count": null,
   "metadata": {},
   "outputs": [
    {
     "data": {
      "image/png": "[encoded data removed]",
      "text/plain": [
       "<Figure size 432x288 with 1 Axes>"
      ]
     },
     "metadata": {
      "needs_background": "light"
     },
     "output_type": "display_data"
    }
   ],
   "source": [
    "paths = ProjectPath('data')\n",
    "manager = RunManager(paths, 'PI')\n",
    "df = manager.update_hotspots('Europe', save=False)\n",
    "plt.scatter(df.longitude, df.latitude);"
   ]
  },
  {
   "cell_type": "markdown",
   "metadata": {},
   "source": [
    "The `hotspots_region` name should be defined according with the image bellow. Names with multiple words use `_` in place of the spaces. More info here: https://firms.modaps.eosdis.nasa.gov/active_fire/#firms-txt"
   ]
  },
  {
   "cell_type": "code",
   "execution_count": null,
   "metadata": {},
   "outputs": [
    {
     "data": {
      "text/html": [
       "<img src=\"https://firms.modaps.eosdis.nasa.gov/images/Regions_500px.jpg\"/>"
      ],
      "text/plain": [
       "<IPython.core.display.Image object>"
      ]
     },
     "execution_count": null,
     "metadata": {},
     "output_type": "execute_result"
    }
   ],
   "source": [
    "IPython.display.Image(url=\"https://firms.modaps.eosdis.nasa.gov/images/Regions_500px.jpg\")"
   ]
  },
  {
   "cell_type": "markdown",
   "metadata": {},
   "source": [
    "Running all processes looks like this:"
   ]
  },
  {
   "cell_type": "markdown",
   "metadata": {},
   "source": [
    "```python\n",
    "region  = 'PI'\n",
    "hotspots_region = 'Europe'\n",
    "paths = ProjectPath('../hide/nrt_test')\n",
    "weight_files = ['banetv0.20-val2017-fold0.pth', \n",
    "                'banetv0.20-val2017-fold1.pth',\n",
    "                'banetv0.20-val2017-fold2.pth']\n",
    "manager = RunManager(paths, region)\n",
    "manager.update_hotspots(hotspots_region)\n",
    "manager.download_viirs()\n",
    "manager.preprocess_dataset()\n",
    "manager.get_preds(weight_files)\n",
    "manager.postprocess(filename=f'ba_{manager.time.strftime(\"%Y%m%d\")}', \n",
    "                    threshold=0.5, area_epsg=3763)\n",
    "```"
   ]
  },
  {
   "cell_type": "markdown",
   "metadata": {},
   "source": [
    "You can easily run all this process using the console script `banet_nrt_run`."
   ]
  },
  {
   "cell_type": "code",
   "execution_count": null,
   "metadata": {},
   "outputs": [
    {
     "name": "stdout",
     "output_type": "stream",
     "text": [
      "Converted 00_core.ipynb.\n",
      "Converted 01_geo.ipynb.\n",
      "Converted 02_data.ipynb.\n",
      "Converted 03_models.ipynb.\n",
      "Converted 04_predict.ipynb.\n",
      "Converted 04b_nrt.ipynb.\n",
      "Converted 04c_historical.ipynb.\n",
      "Converted 05_train.ipynb.\n",
      "Converted 06_cli.ipynb.\n",
      "Converted 07_web.ipynb.\n",
      "Converted index.ipynb.\n",
      "Converted tutorial.australia2020.ipynb.\n",
      "Converted tutorial.australia2020_100m.ipynb.\n"
     ]
    }
   ],
   "source": [
    "# hide\n",
    "notebook2script()"
   ]
  }
 ],
 "metadata": {
  "kernelspec": {
   "display_name": "Python (banet_dev)",
   "language": "python",
   "name": "banet_dev"
  }
 },
 "nbformat": 4,
 "nbformat_minor": 2
}
