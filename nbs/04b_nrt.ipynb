{
 "cells": [
  {
   "cell_type": "code",
   "execution_count": null,
   "metadata": {},
   "outputs": [],
   "source": [
    "# default_exp nrt"
   ]
  },
  {
   "cell_type": "markdown",
   "metadata": {},
   "source": [
    "# Predict NRT\n",
    ">This module has functions to generate the burned areas predictions for near real time operational applications."
   ]
  },
  {
   "cell_type": "code",
   "execution_count": null,
   "metadata": {},
   "outputs": [],
   "source": [
    "# export\n",
    "import pandas as pd\n",
    "from datetime import date\n",
    "import scipy.io as sio\n",
    "import requests\n",
    "import IPython\n",
    "import matplotlib.pyplot as plt\n",
    "from nbdev.imports import test_eq\n",
    "from geoget.download import run_all\n",
    "from banet.core import filter_files, ls, Path, InOutPath\n",
    "from banet.geo import Region\n",
    "from banet.data import *\n",
    "from banet.predict import predict_nrt\n",
    "Path.ls = ls"
   ]
  },
  {
   "cell_type": "code",
   "execution_count": null,
   "metadata": {},
   "outputs": [],
   "source": [
    "# hide\n",
    "from nbdev.showdoc import show_doc\n",
    "from nbdev.export import notebook2script\n",
    "from IPython.core.debugger import set_trace"
   ]
  },
  {
   "cell_type": "code",
   "execution_count": null,
   "metadata": {},
   "outputs": [],
   "source": [
    "# export\n",
    "class ProjectPath():\n",
    "    def __init__(self, path:Path, config_dir='config', ladsweb_dir='ladsweb',\n",
    "                 hotspots_dir='hotspots', dataset_dir='dataset', outputs_dir='outputs'):\n",
    "        if isinstance(path, str): path = Path(path)\n",
    "        self.path     = path\n",
    "        self.config   = path/config_dir\n",
    "        self.ladsweb  = path/ladsweb_dir\n",
    "        self.hotspots = path/hotspots_dir\n",
    "        self.dataset  = path/dataset_dir\n",
    "        self.outputs  = path/outputs_dir\n",
    "        self.create_dirs([self.path, self.config, self.ladsweb, self.hotspots,\n",
    "                          self.dataset, self.outputs])\n",
    "        \n",
    "    @staticmethod\n",
    "    def create_dirs(paths_list):\n",
    "        \"Create directories in list.\"\n",
    "        for o in paths_list: o.mkdir(exist_ok=True)"
   ]
  },
  {
   "cell_type": "code",
   "execution_count": null,
   "metadata": {},
   "outputs": [
    {
     "data": {
      "text/markdown": [
       "<h4 id=\"ProjectPath.create_dirs\" class=\"doc_header\"><code>ProjectPath.create_dirs</code><a href=\"__main__.py#L15\" class=\"source_link\" style=\"float:right\">[source]</a></h4>\n",
       "\n",
       "> <code>ProjectPath.create_dirs</code>(**`paths_list`**)\n",
       "\n",
       "Create directories in list."
      ],
      "text/plain": [
       "<IPython.core.display.Markdown object>"
      ]
     },
     "metadata": {},
     "output_type": "display_data"
    }
   ],
   "source": [
    "show_doc(ProjectPath.create_dirs)"
   ]
  },
  {
   "cell_type": "code",
   "execution_count": null,
   "metadata": {},
   "outputs": [],
   "source": [
    "paths = ProjectPath('../hide/nrt_test')\n",
    "test_eq(sorted([o.name for o in paths.path.iterdir()]), \n",
    "        ['config', 'dataset', 'hotspots', 'ladsweb', 'outputs'])"
   ]
  },
  {
   "cell_type": "code",
   "execution_count": null,
   "metadata": {},
   "outputs": [],
   "source": [
    "# export\n",
    "class RunManager():\n",
    "    def __init__(self, project_path:ProjectPath, region, time='today', \n",
    "                 product:str='VIIRS750', days=64):\n",
    "        self.path    = project_path\n",
    "        self.time    = self.init_time(time)\n",
    "        self.product = product\n",
    "        self.region  = region\n",
    "        self.days    = days\n",
    "        \n",
    "    def init_time(self, time):\n",
    "        if time == 'today': \n",
    "            time = pd.Timestamp(date.today())\n",
    "        elif time == 'yesterday':\n",
    "            time = pd.Timestamp(date.today())-pd.Timedelta(days=1)\n",
    "        return time\n",
    "                \n",
    "    def last_n_days(self, time:pd.Timestamp, days):\n",
    "        return pd.date_range(start=time-pd.Timedelta(days=days-1), periods=days,\n",
    "                              freq='D')\n",
    "    \n",
    "    def check_data(self):\n",
    "        \"Check existing and missing files in dataset folder.\"\n",
    "        times = self.last_n_days(self.time, self.days)\n",
    "        files, missing_files = [], []\n",
    "        for t in times:\n",
    "            tstr = t.strftime('%Y%m%d')\n",
    "            file = self.path.dataset/f'{self.product}{self.region}_{tstr}.mat'\n",
    "            if file.is_file():\n",
    "                files.append(file)\n",
    "            else:\n",
    "                missing_files.append(file)\n",
    "        return {'files': files, 'missing_files': missing_files}\n",
    "    \n",
    "    def get_download_dates(self):\n",
    "        \"Find for which new dates the files need to be downloaded.\"\n",
    "        files = self.check_data()['files']\n",
    "        if len(files) == 0: \n",
    "            start = self.last_n_days(self.time, self.days)[0]\n",
    "        else:\n",
    "            start = pd.Timestamp(files[-1].stem.split('_')[-1])+pd.Timedelta(days=1)\n",
    "        start = start.strftime('%Y-%m-%d 00:00:00')\n",
    "        end = self.time.strftime('%Y-%m-%d 23:59:59')\n",
    "        return start, end\n",
    "    \n",
    "    def update_hotspots(self, location, mode='7d', save=True):\n",
    "        \"\"\"Update hotspots file with new data. \n",
    "          location is according to the data url naming format\n",
    "          mode can be on of: 24h, 48h, 7d\"\"\"\n",
    "        url = f'https://firms.modaps.eosdis.nasa.gov/' \\\n",
    "                   f'active_fire/viirs/text/VNP14IMGTDL_NRT_{location}_{mode}.csv'\n",
    "        files = self.path.hotspots.ls(include=['.csv', f'hotspots{self.region}'])\n",
    "        frp = [pd.read_csv(f) for f in files]\n",
    "        frp = pd.concat([*frp, pd.read_csv(url)], axis=0, sort=False\n",
    "                        ).drop_duplicates().reset_index(drop=True)\n",
    "        if save:\n",
    "            frp.to_csv(self.path.hotspots/f'hotspots{self.region}.csv', index=False)\n",
    "            print(f'hotspots{self.region}.csv updated')\n",
    "        else: return frp\n",
    "        \n",
    "    def download_viirs(self):\n",
    "        \"Download viirs data needed for the dataset.\"\n",
    "        tstart, tend = self.get_download_dates()\n",
    "        region = Region.load(f'{self.path.config}/R_{self.region}.json')\n",
    "        viirs_downloader = VIIRS750_download(region, tstart, tend)\n",
    "        viirs_downloader_list = viirs_downloader.split_times()\n",
    "        run_all(viirs_downloader_list, self.path.ladsweb)\n",
    "        \n",
    "    def preprocess_dataset(self):\n",
    "        \"Apply pre-processing to the rawdata and saves results in dataset directory.\"\n",
    "        paths = InOutPath(f'{self.path.ladsweb}', f'{self.path.dataset}')\n",
    "        R = Region.load(f'{self.path.config}/R_{self.region}.json')\n",
    "        bands = ['Reflectance_M5', 'Reflectance_M7', 'Reflectance_M10', 'Radiance_M12',\n",
    "                 'Radiance_M15', 'SolarZenithAngle', 'SatelliteZenithAngle']\n",
    "        print('\\nPre-processing data...')\n",
    "        viirs = Viirs750Dataset(paths, R, bands=bands)\n",
    "        merge_tiles = MergeTiles('SatelliteZenithAngle')\n",
    "        mir_calc = MirCalc('SolarZenithAngle', 'Radiance_M12', 'Radiance_M15')\n",
    "        rename = BandsRename(['Reflectance_M5', 'Reflectance_M7'], ['Red', 'NIR'])\n",
    "        bfilter = BandsFilter(['Red', 'NIR', 'MIR'])\n",
    "        act_fires = ActiveFires(f'{self.path.hotspots}/hotspots{self.region}.csv')\n",
    "        viirs.process_all(proc_funcs=[merge_tiles, mir_calc, rename, bfilter, act_fires])\n",
    "        \n",
    "    def init_model_weights(self, weight_files:list):\n",
    "        \"Downloads model weights if they don't exist yet on config directory.\"\n",
    "        local_files = []\n",
    "        for w in weight_files:\n",
    "            file_save = self.path.config/w\n",
    "            if not file_save.is_file():\n",
    "                print(f'Downloading model weights {w}')\n",
    "                url = f'https://github.com/mnpinto/banet_weights/raw/master/model/{w}'\n",
    "                file = requests.get(url)\n",
    "                open(str(file_save), 'wb').write(file.content)\n",
    "            local_files.append(file_save)\n",
    "        return local_files\n",
    "    \n",
    "    def get_preds(self, weight_files:list, threshold=0.5, save=True):\n",
    "        \"Computes BA-Net predictions ensembling the models in the weight_files list.\"\n",
    "        local_files = self.init_model_weights(weight_files)\n",
    "        iop = InOutPath(self.path.dataset, self.path.outputs, mkdir=False)\n",
    "        predict_nrt(iop, self.time, local_files, self.region, threshold, save)"
   ]
  },
  {
   "cell_type": "code",
   "execution_count": null,
   "metadata": {},
   "outputs": [
    {
     "data": {
      "text/markdown": [
       "<h4 id=\"RunManager.check_data\" class=\"doc_header\"><code>RunManager.check_data</code><a href=\"__main__.py#L22\" class=\"source_link\" style=\"float:right\">[source]</a></h4>\n",
       "\n",
       "> <code>RunManager.check_data</code>()\n",
       "\n",
       "Check existing and missing files in dataset folder."
      ],
      "text/plain": [
       "<IPython.core.display.Markdown object>"
      ]
     },
     "metadata": {},
     "output_type": "display_data"
    },
    {
     "data": {
      "text/markdown": [
       "<h4 id=\"RunManager.check_data\" class=\"doc_header\"><code>RunManager.check_data</code><a href=\"__main__.py#L22\" class=\"source_link\" style=\"float:right\">[source]</a></h4>\n",
       "\n",
       "> <code>RunManager.check_data</code>()\n",
       "\n",
       "Check existing and missing files in dataset folder."
      ],
      "text/plain": [
       "<IPython.core.display.Markdown object>"
      ]
     },
     "metadata": {},
     "output_type": "display_data"
    },
    {
     "data": {
      "text/markdown": [
       "<h4 id=\"RunManager.update_hotspots\" class=\"doc_header\"><code>RunManager.update_hotspots</code><a href=\"__main__.py#L46\" class=\"source_link\" style=\"float:right\">[source]</a></h4>\n",
       "\n",
       "> <code>RunManager.update_hotspots</code>(**`location`**, **`mode`**=*`'7d'`*, **`save`**=*`True`*)\n",
       "\n",
       "Update hotspots file with new data. \n",
       "location is according to the data url naming format\n",
       "mode can be on of: 24h, 48h, 7d"
      ],
      "text/plain": [
       "<IPython.core.display.Markdown object>"
      ]
     },
     "metadata": {},
     "output_type": "display_data"
    },
    {
     "data": {
      "text/markdown": [
       "<h4 id=\"RunManager.download_viirs\" class=\"doc_header\"><code>RunManager.download_viirs</code><a href=\"__main__.py#L61\" class=\"source_link\" style=\"float:right\">[source]</a></h4>\n",
       "\n",
       "> <code>RunManager.download_viirs</code>()\n",
       "\n",
       "Download viirs data needed for the dataset."
      ],
      "text/plain": [
       "<IPython.core.display.Markdown object>"
      ]
     },
     "metadata": {},
     "output_type": "display_data"
    },
    {
     "data": {
      "text/markdown": [
       "<h4 id=\"RunManager.preprocess_dataset\" class=\"doc_header\"><code>RunManager.preprocess_dataset</code><a href=\"__main__.py#L69\" class=\"source_link\" style=\"float:right\">[source]</a></h4>\n",
       "\n",
       "> <code>RunManager.preprocess_dataset</code>()\n",
       "\n",
       "Apply pre-processing to the rawdata and saves results in dataset directory."
      ],
      "text/plain": [
       "<IPython.core.display.Markdown object>"
      ]
     },
     "metadata": {},
     "output_type": "display_data"
    },
    {
     "data": {
      "text/markdown": [
       "<h4 id=\"RunManager.init_model_weights\" class=\"doc_header\"><code>RunManager.init_model_weights</code><a href=\"__main__.py#L84\" class=\"source_link\" style=\"float:right\">[source]</a></h4>\n",
       "\n",
       "> <code>RunManager.init_model_weights</code>(**`weight_files`**:`list`)\n",
       "\n",
       "Downloads model weights if they don't exist yet on config directory."
      ],
      "text/plain": [
       "<IPython.core.display.Markdown object>"
      ]
     },
     "metadata": {},
     "output_type": "display_data"
    },
    {
     "data": {
      "text/markdown": [
       "<h4 id=\"RunManager.get_preds\" class=\"doc_header\"><code>RunManager.get_preds</code><a href=\"__main__.py#L97\" class=\"source_link\" style=\"float:right\">[source]</a></h4>\n",
       "\n",
       "> <code>RunManager.get_preds</code>(**`weight_files`**:`list`, **`threshold`**=*`0.5`*, **`save`**=*`True`*)\n",
       "\n",
       "Computes BA-Net predictions ensembling the models in the weight_files list."
      ],
      "text/plain": [
       "<IPython.core.display.Markdown object>"
      ]
     },
     "metadata": {},
     "output_type": "display_data"
    }
   ],
   "source": [
    "show_doc(RunManager.check_data)\n",
    "show_doc(RunManager.check_data)\n",
    "show_doc(RunManager.update_hotspots)\n",
    "show_doc(RunManager.download_viirs)\n",
    "show_doc(RunManager.preprocess_dataset)\n",
    "show_doc(RunManager.init_model_weights)\n",
    "show_doc(RunManager.get_preds)"
   ]
  },
  {
   "cell_type": "code",
   "execution_count": null,
   "metadata": {},
   "outputs": [
    {
     "data": {
      "image/png": "[encoded data removed]",
      "text/plain": [
       "<Figure size 432x288 with 1 Axes>"
      ]
     },
     "metadata": {
      "needs_background": "light"
     },
     "output_type": "display_data"
    }
   ],
   "source": [
    "manager = RunManager(paths, 'PI')\n",
    "df = manager.update_hotspots('Europe', save=False)\n",
    "plt.scatter(df.longitude, df.latitude);"
   ]
  },
  {
   "cell_type": "markdown",
   "metadata": {},
   "source": [
    "The `hotspots_region` name should be defined according with the image bellow. Names with multiple words use `_` in place of the spaces. More info here: https://firms.modaps.eosdis.nasa.gov/active_fire/#firms-txt"
   ]
  },
  {
   "cell_type": "code",
   "execution_count": null,
   "metadata": {},
   "outputs": [
    {
     "data": {
      "text/html": [
       "<img src=\"https://firms.modaps.eosdis.nasa.gov/images/Regions_500px.jpg\"/>"
      ],
      "text/plain": [
       "<IPython.core.display.Image object>"
      ]
     },
     "execution_count": null,
     "metadata": {},
     "output_type": "execute_result"
    }
   ],
   "source": [
    "IPython.display.Image(url=\"https://firms.modaps.eosdis.nasa.gov/images/Regions_500px.jpg\")"
   ]
  },
  {
   "cell_type": "markdown",
   "metadata": {},
   "source": [
    "Running all processes looks like this:"
   ]
  },
  {
   "cell_type": "markdown",
   "metadata": {},
   "source": [
    "```python\n",
    "region  = 'PI'\n",
    "hotspots_region = 'Europe'\n",
    "paths = ProjectPath('../hide/nrt_test')\n",
    "weight_files = ['banetv0.20-val2017-fold0.pth', \n",
    "                'banetv0.20-val2017-fold1.pth',\n",
    "                'banetv0.20-val2017-fold2.pth']\n",
    "manager = RunManager(paths, region)\n",
    "manager.update_hotspots(hotspots_region)\n",
    "manager.download_viirs()\n",
    "manager.preprocess_dataset()\n",
    "manager.get_preds(weight_files)\n",
    "```"
   ]
  },
  {
   "cell_type": "code",
   "execution_count": null,
   "metadata": {},
   "outputs": [
    {
     "name": "stdout",
     "output_type": "stream",
     "text": [
      "Converted 00_core.ipynb.\n",
      "Converted 01_geo.ipynb.\n",
      "Converted 02_data.ipynb.\n",
      "Converted 03_models.ipynb.\n",
      "Converted 04_predict.ipynb.\n",
      "Converted 04b_nrt.ipynb.\n",
      "Converted 05_train.ipynb.\n",
      "Converted 06_cli.ipynb.\n",
      "Converted index.ipynb.\n",
      "Converted tutorial.australia2020.ipynb.\n"
     ]
    }
   ],
   "source": [
    "# hide\n",
    "notebook2script()"
   ]
  }
 ],
 "metadata": {
  "kernelspec": {
   "display_name": "Python (fastai_dev)",
   "language": "python",
   "name": "fastai_dev"
  }
 },
 "nbformat": 4,
 "nbformat_minor": 2
}
