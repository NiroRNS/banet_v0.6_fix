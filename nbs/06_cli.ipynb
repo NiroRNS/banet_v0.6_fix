{
 "cells": [
  {
   "cell_type": "code",
   "execution_count": null,
   "metadata": {},
   "outputs": [],
   "source": [
    "# default_exp cli"
   ]
  },
  {
   "cell_type": "markdown",
   "metadata": {},
   "source": [
    "# CLI\n",
    "> Command line scripts."
   ]
  },
  {
   "cell_type": "code",
   "execution_count": null,
   "metadata": {},
   "outputs": [],
   "source": [
    "# export\n",
    "import calendar\n",
    "import pandas as pd\n",
    "from fastscript import call_parse, Param\n",
    "import pdb\n",
    "import os\n",
    "\n",
    "from geoget.download import run_all\n",
    "\n",
    "from banet.core import InOutPath, Path, ls\n",
    "from banet.data import *\n",
    "from banet.geo import Region\n",
    "from banet.predict import predict_month, predict_time\n",
    "from banet.models import BA_Net\n",
    "from banet.train import train_model"
   ]
  },
  {
   "cell_type": "code",
   "execution_count": null,
   "metadata": {},
   "outputs": [],
   "source": [
    "# hide\n",
    "from nbdev.showdoc import show_doc\n",
    "from nbdev.export import notebook2script"
   ]
  },
  {
   "cell_type": "code",
   "execution_count": null,
   "metadata": {},
   "outputs": [],
   "source": [
    "# export\n",
    "Path.ls = ls\n",
    "_bands =  ['Reflectance_M5', 'Reflectance_M7', 'Reflectance_M10', 'Radiance_M12',\n",
    "           'Radiance_M15', 'SolarZenithAngle', 'SatelliteZenithAngle']\n",
    "_regions_path = '../data/regions'\n",
    "_weight_files = ['models/banetv0.20-val2017-fold0.pth',\n",
    "                 'models/banetv0.20-val2017-fold1.pth',\n",
    "                 'models/banetv0.20-val2017-fold2.pth']\n",
    "_weight_files = [os.path.expanduser('~/.banet/') + o for o in _weight_files]"
   ]
  },
  {
   "cell_type": "code",
   "execution_count": null,
   "metadata": {},
   "outputs": [],
   "source": [
    "# export\n",
    "@call_parse\n",
    "def banet_viirs750_download(region:Param(\"Region name\", str),\n",
    "    tstart:Param(\"Start of serach window yyyy-mm-dd HH:MM:SS\", str),\n",
    "    tend:Param(\"End of search windo yyyy-mm-dd HH:MM:SS\", str),\n",
    "    path_save:Param(\"Path to save the outputs of the request\", str),\n",
    "    regions_path:Param(\"Path for region json files\", str)):\n",
    "    Path(path_save).mkdir(exist_ok=True)\n",
    "    region = Region.load(f'{regions_path}/R_{region}.json')\n",
    "    viirs_downloader = VIIRS750_download(region, tstart, tend)\n",
    "    viirs_downloader_list = viirs_downloader.split_times()\n",
    "    print(f'Splitting request into {len(viirs_downloader_list)} orders.')\n",
    "    run_all(viirs_downloader_list, path_save)"
   ]
  },
  {
   "cell_type": "markdown",
   "metadata": {},
   "source": [
    "Example:\n",
    "```bash\n",
    "#!/bin/bash -l \n",
    "region=\"PI\"\n",
    "tstart=\"2017-10-27 00:00:00\"\n",
    "tend=\"2017-10-27 23:59:59\"\n",
    "path_save=\"/srv/banet/data/rawdata\"\n",
    "regions_path=\"/srv/banet/data/regions\"\n",
    "banet_viirs750_download $region \"$tstart\" \"$tend\" $path_save $regions_path\n",
    "```"
   ]
  },
  {
   "cell_type": "code",
   "execution_count": null,
   "metadata": {},
   "outputs": [],
   "source": [
    "# export\n",
    "@call_parse\n",
    "def banet_create_dataset(region:Param(\"Region name\", str),\n",
    "                   viirs_path:Param(\"Input path for VIIRS raw data\", str),\n",
    "                   fires_path:Param(\"Input path for Active Fires csv\", str),\n",
    "                   save_path:Param(\"Path to save outputs\", str),\n",
    "                   regions_path:Param(\"Path where region defenition files are stored\", str),\n",
    "                   mcd64_path:Param(\"Input path for MCD64 raw data\", str)=None,\n",
    "                   cci51_path:Param(\"Input path for FireCCI51 raw data\", str)=None,\n",
    "                   bands:Param(\"List of bands to use as inputs for VIIRS raw data\", str)=_bands,\n",
    "                   year:Param(\"Set to process a single year instead of all available\", int)=None):\n",
    "\n",
    "    paths = InOutPath(f'{viirs_path}', f'{save_path}')\n",
    "    R = Region.load(f'{regions_path}/R_{region}.json')\n",
    "\n",
    "    # VIIRS750\n",
    "    print('\\nCreating dataset for VIIRS750')\n",
    "    viirs = Viirs750Dataset(paths, R, bands=bands)\n",
    "    viirs.filter_times(year)\n",
    "    merge_tiles = MergeTiles('SatelliteZenithAngle')\n",
    "    mir_calc = MirCalc('SolarZenithAngle', 'Radiance_M12', 'Radiance_M15')\n",
    "    rename = BandsRename(['Reflectance_M5', 'Reflectance_M7'], ['Red', 'NIR'])\n",
    "    bfilter = BandsFilter(['Red', 'NIR', 'MIR'])\n",
    "    act_fires = ActiveFires(f'{fires_path}/hotspots{R.name}.csv')\n",
    "    viirs.process_all(proc_funcs=[merge_tiles, mir_calc, rename, bfilter, act_fires])\n",
    "\n",
    "    # MCD64A1C6\n",
    "    if mcd64_path is not None:\n",
    "        print('\\nCreating dataset for MCD64A1C6')\n",
    "        paths.input_path = Path(mcd64_path)\n",
    "        mcd = MCD64Dataset(paths, R)\n",
    "        mcd.match_times(viirs)\n",
    "        mcd.process_all()\n",
    "\n",
    "    # FireCCI51\n",
    "    if cci51_path is not None:\n",
    "        print('\\nCreating dataset for FireCCI51')\n",
    "        paths.input_path = Path(cci51_path)\n",
    "        cci51 = FireCCI51Dataset(paths, R)\n",
    "        cci51.match_times(viirs)\n",
    "        cci51.process_all()"
   ]
  },
  {
   "cell_type": "markdown",
   "metadata": {},
   "source": [
    "Examples:\n",
    "```bash\n",
    "#!/bin/bash -l\n",
    "region=PI\n",
    "viirs_path=/srv/banet/data/rawdata\n",
    "mcd64_path=/srv/mcd64\n",
    "cci51_path=/srv/BA_validation/data/FireCCI51\n",
    "save_path=/srv/banet/data/procdata\n",
    "fires_path=/srv/banet/data/hotspots\n",
    "regions_path=/srv/banet/data/regions\n",
    "\n",
    "# Create dataset only for VIIRS\n",
    "banet_create_dataset $region $viirs_path $fires_path $save_path \\\n",
    "                     $regions_path --year=2017\n",
    "\n",
    "# Create dataset for VIIRS and MCD64A1C6\n",
    "banet_create_dataset $region $viirs_path $fires_path $save_path \\\n",
    "                     $regions_path --mcd64_path $mcd64_path --year=2017\n",
    "\n",
    "# Create dataset for VIIRS, MCD64A1C6 and FireCCI51 data.\n",
    "banet_create_dataset $region $viirs_path $fires_path $save_path \\\n",
    "                     $regions_path --mcd64_path $mcd64_path \\\n",
    "                     --cci51_path $cci51_path --year=2017\n",
    "```"
   ]
  },
  {
   "cell_type": "code",
   "execution_count": null,
   "metadata": {},
   "outputs": [],
   "source": [
    "# export\n",
    "@call_parse\n",
    "def banet_dataset2tiles(region:Param(\"Region name\", str),\n",
    "                  input_path:Param(\"Input path for dataset\", str),\n",
    "                  output_path:Param(\"Output path for tiles dataset\", str),\n",
    "                  size:Param(\"Tiles size\", int)=128,\n",
    "                  step:Param(\"Step size of moving window to create tiles\", int)=100,\n",
    "                  year:Param(\"Set to process a single year instead of all available\", int)=None):\n",
    "\n",
    "    iop = InOutPath(input_path, output_path)\n",
    "    r2t = Region2Tiles(iop, 'VIIRS750', 'MCD64A1C6', regions=[region],\n",
    "                       bands=[['Red', 'NIR', 'MIR', 'FRP'], ['bafrac']],\n",
    "                       size=size, step=step)\n",
    "    if year is None: r2t.process_all()\n",
    "    else: r2t.process_all(include=[f'_{year}'])"
   ]
  },
  {
   "cell_type": "markdown",
   "metadata": {},
   "source": [
    "Examples:\n",
    "```bash\n",
    "#!/bin/bash -l\n",
    "input_path=/srv/banet/data/procdata\n",
    "output_path=/srv/banet/data/tiles/train\n",
    "region=PI\n",
    "\n",
    "banet_dataset2tiles $region $input_path $output_path\n",
    "```"
   ]
  },
  {
   "cell_type": "code",
   "execution_count": null,
   "metadata": {},
   "outputs": [],
   "source": [
    "# export\n",
    "@call_parse\n",
    "def banet_predict_monthly(region:Param(\"Region name\", str),\n",
    "                    input_path:Param(\"Input path for dataset\", str),\n",
    "                    output_path:Param(\"Output path for tiles dataset\", str),\n",
    "                    year:Param(\"Set to process a single year instead of all available\", int),\n",
    "                    weight_files:Param(\"List of pth weight files\", list)=_weight_files):\n",
    "\n",
    "    iop = InOutPath(input_path, f'{output_path}')\n",
    "    times = pd.DatetimeIndex([pd.Timestamp(o.stem.split('_')[-1])\n",
    "                              for o in iop.src.ls(include=['.mat'])])\n",
    "    times = times[times.year == year]\n",
    "    tstart, tend = times.min(), times.max()\n",
    "    month_start = (tstart + pd.Timedelta(days=31)).month\n",
    "    for m in range(month_start, tend.month):\n",
    "        print(f'Generating maps for {calendar.month_name[m]} {year}:')\n",
    "        t = pd.Timestamp(f'{year}-{m}-01')\n",
    "        predict_month(iop, t, weight_files, region)"
   ]
  },
  {
   "cell_type": "markdown",
   "metadata": {},
   "source": [
    "Example:\n",
    "```bash\n",
    "#!/bin/bash -l\n",
    "input_path=/srv/banet/data/procdata\n",
    "output_path=/srv/banet/data/monthly\n",
    "region=PI\n",
    "year=2017\n",
    "\n",
    "banet_predict_monthly $region $input_path $output_path $year\n",
    "```"
   ]
  },
  {
   "cell_type": "code",
   "execution_count": null,
   "metadata": {},
   "outputs": [],
   "source": [
    "# export\n",
    "@call_parse\n",
    "def banet_predict_times(region:Param(\"Region name\", str),\n",
    "                    tstart:Param(\"Start of serach window yyyy-mm-dd HH:MM:SS\", str),\n",
    "                    tend:Param(\"End of search windo yyyy-mm-dd HH:MM:SS\", str),\n",
    "                    input_path:Param(\"Input path for dataset\", str),\n",
    "                    output_path:Param(\"Output path for tiles dataset\", str),\n",
    "                    regions_path:Param(\"Path for region json files\", str),\n",
    "                    product:Param(\"Name of product (default VIIRS750)\", str)=\"VIIRS750\",\n",
    "                    output:Param(\"Name of file to save results\", str)=\"data\",\n",
    "                    weight_files:Param(\"List of pth weight files\", list)=_weight_files):\n",
    "\n",
    "    iop = InOutPath(input_path, f'{output_path}')\n",
    "    times = pd.date_range(tstart, tend, freq='D')\n",
    "    R = Region.load(f'{regions_path}/R_{region}.json')\n",
    "    predict_time(iop, times, weight_files, R, product=product, output=output)"
   ]
  },
  {
   "cell_type": "markdown",
   "metadata": {},
   "source": [
    "Example:\n",
    "```bash\n",
    "#!/bin/bash -l\n",
    "region=\"PI\"\n",
    "tstart=\"2017-10-27 00:00:00\"\n",
    "tend=\"2017-10-27 23:59:59\"\n",
    "input_path=\"/srv/banet/data/procdata\"\n",
    "output_path=\"/srv/banet/data/monthly\"\n",
    "regions_path=\"/srv/banet/data/regions\"\n",
    "\n",
    "banet_predict_times $region \"$tstart\" \"$tend\" $input_path $output_path $regions_path\n",
    "```"
   ]
  },
  {
   "cell_type": "code",
   "execution_count": null,
   "metadata": {},
   "outputs": [],
   "source": [
    "# export\n",
    "@call_parse\n",
    "def banet_train_model(val_year:Param('Validation year', int),\n",
    "                r_fold:Param('Fold name', str),\n",
    "                input_path:Param(\"Input path for tiles dataset\", str),\n",
    "                output_path:Param(\"Path to save the model weights\", str),\n",
    "                n_epochs:Param(\"Number of epochs to train\", int)=8,\n",
    "                lr:Param(\"Learning rate\", float)=1e-2,\n",
    "                nburned:Param(\"Minimum number of burned pixels to define a sequence\", int)=10,\n",
    "                n_episodes_train:Param(\"Number of episodes per train epoch\", int)=2000,\n",
    "                n_episodes_valid:Param(\"Number of episodes for validation\", int)=100,\n",
    "                sequence_len:Param(\"Number of time-steps in sequence\", int)=64,\n",
    "                n_sequences:Param(\"Number of sequences per batch\", int)=1,\n",
    "                pretrained_weights:Param(\"Path to a weights file\", str)=None):\n",
    "\n",
    "    path = Path(input_path)\n",
    "    model_path = Path(output_path)\n",
    "    print(f'Training model for {val_year}, fold {r_fold}:')\n",
    "    train_model(val_year, r_fold, path, model_path, n_epochs, lr, nburned,\n",
    "                n_episodes_train, n_episodes_valid, sequence_len, n_sequences,\n",
    "                pretrained_weights=pretrained_weights)"
   ]
  },
  {
   "cell_type": "markdown",
   "metadata": {},
   "source": [
    "Example:\n",
    "```bash\n",
    "#!/bin/bash -l\n",
    "val_year=2018\n",
    "fold_name=99\n",
    "input_path=/srv/banet/data/tiles/train\n",
    "output_path=/srv/banet/data/models\n",
    "\n",
    "banet_train_model $val_year $fold_name $input_path $output_path\n",
    "```"
   ]
  },
  {
   "cell_type": "code",
   "execution_count": null,
   "metadata": {},
   "outputs": [
    {
     "name": "stdout",
     "output_type": "stream",
     "text": [
      "Converted 00_core.ipynb.\n",
      "Converted 01_geo.ipynb.\n",
      "Converted 02_data.ipynb.\n",
      "Converted 03_models.ipynb.\n",
      "Converted 04_predict.ipynb.\n",
      "Converted 05_train.ipynb.\n",
      "Converted 06_cli.ipynb.\n",
      "Converted index.ipynb.\n",
      "Converted tutorial.australia2020.ipynb.\n"
     ]
    }
   ],
   "source": [
    "# hide\n",
    "notebook2script()"
   ]
  }
 ],
 "metadata": {
  "kernelspec": {
   "display_name": "Python (fastai_dev)",
   "language": "python",
   "name": "fastai_dev"
  }
 },
 "nbformat": 4,
 "nbformat_minor": 2
}
