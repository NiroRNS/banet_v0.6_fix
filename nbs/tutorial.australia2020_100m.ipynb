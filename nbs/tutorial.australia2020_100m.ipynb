{
 "cells": [
  {
   "cell_type": "markdown",
   "metadata": {},
   "source": [
    "# Mapping Australia 2019/2020 fires\n",
    "> An example of usage of BA-Net to map and date the extreme fire events that occured in eastern Australia in the fire season of 2019/2020."
   ]
  },
  {
   "cell_type": "code",
   "execution_count": null,
   "metadata": {},
   "outputs": [],
   "source": [
    "# local\n",
    "import pandas as pd\n",
    "import scipy.io as sio\n",
    "import numpy as np\n",
    "import matplotlib.pyplot as plt\n",
    "\n",
    "from banet.core import ProjectPath\n",
    "from banet.geo import *\n",
    "from banet.historical import *"
   ]
  },
  {
   "cell_type": "code",
   "execution_count": null,
   "metadata": {},
   "outputs": [],
   "source": [
    "# local\n",
    "region = 'AU2020'\n",
    "tstart = '2019-08-01'\n",
    "tend = '2020-04-30'\n",
    "paths = ProjectPath('/srv/australia2020/ba100m')\n",
    "weight_files = ['banetv0.20-val2017-fold0.pth']\n",
    "times = pd.date_range(tstart, tend, freq='MS')\n",
    "Region(region, [146, -39, 154, -26], 0.001).export(paths.config/f'R_{region}.json')"
   ]
  },
  {
   "cell_type": "raw",
   "metadata": {},
   "source": [
    "data = sio.loadmat(paths.outputs/f'ba100m_{region}{times[0].year}.mat')\n",
    "times = pd.date_range('2019-08-01', '2020-04-30').astype(str).tolist()\n",
    "data['times'] = times"
   ]
  },
  {
   "cell_type": "raw",
   "metadata": {},
   "source": [
    "sio.savemat(paths.outputs/f'ba100m_{region}2019.mat', data, do_compression=True)"
   ]
  },
  {
   "cell_type": "markdown",
   "metadata": {},
   "source": [
    "```python\n",
    "manager = RunManager(paths, region, times, product='VIIRS375')\n",
    "manager.download_viirs()\n",
    "# Save hotspots{region}.json file in hotspots folder\n",
    "manager.preprocess_dataset()\n",
    "manager.get_preds(weight_files, threshold=0.01, filename=f'ba100m_{region}{times[0].year}')\n",
    "manager.postprocess(filename=f'ba100m_{region}{times[0].year}', \n",
    "                   threshold=0.5, area_epsg=3763, interval_days=5, min_size_pixels=1000)\n",
    "```"
   ]
  },
  {
   "cell_type": "markdown",
   "metadata": {},
   "source": [
    "## Results"
   ]
  },
  {
   "cell_type": "markdown",
   "metadata": {},
   "source": [
    "The following figures are examples of the results that can be produced from the output of BA-Net:"
   ]
  },
  {
   "cell_type": "code",
   "execution_count": null,
   "metadata": {},
   "outputs": [],
   "source": [
    "# local\n",
    "R = Region.load('/srv/australia2020/ba100m/config/R_AU2020.json')\n",
    "lon, lat = R.coords()\n",
    "gdf = open_shp('/srv/australia2020/Australia_Polygon.shp')\n",
    "data = sio.loadmat('/srv/australia2020/ba100m/outputs/ba100m_AU20202019.mat')\n",
    "\n",
    "ba = data['burned']\n",
    "I = ba>=0.5\n",
    "bd = data['date']\n",
    "bd[~I] = np.nan\n",
    "ba[~I] = np.nan"
   ]
  },
  {
   "cell_type": "code",
   "execution_count": null,
   "metadata": {},
   "outputs": [],
   "source": [
    "# local\n",
    "fig, axes = plt.subplots(ncols=2, figsize=(12,7.5), dpi=300, facecolor='w')\n",
    "im0 = axes[0].pcolormesh(lon, lat, ba, cmap='jet', zorder=3)\n",
    "im1 = axes[1].pcolormesh(lon, lat, bd, cmap='RdYlGn_r', zorder=3)\n",
    "fig.colorbar(im0, ax=axes[0])\n",
    "fig.colorbar(im1, ax=axes[1])\n",
    "axes[0].set_title('Confidence level')\n",
    "axes[1].set_title('Day of burning (starting at 2019-09-01)')\n",
    "for ax in axes.flat:\n",
    "    ax.axis('image')\n",
    "    axis0 = ax.axis()\n",
    "    gdf.plot(ax=ax, zorder=1, color='lightgray')\n",
    "    gdf.boundary.plot(ax=ax, zorder=2, color='k')\n",
    "    ax.axis(axis0)\n",
    "fig.tight_layout();"
   ]
  },
  {
   "cell_type": "code",
   "execution_count": null,
   "metadata": {},
   "outputs": [],
   "source": [
    "# local\n",
    "LON, LAT = np.meshgrid(lon, lat)\n",
    "dLAT = 0.11111\n",
    "dLON = dLAT*np.cos(np.deg2rad(LAT))\n",
    "pix_size = dLON*dLAT\n",
    "\n",
    "x = list(range(0, np.nanmax(bd).astype(int)))\n",
    "times = pd.date_range('2019-08-01', '2020-04-30')[:len(x)]\n",
    "y = [np.nansum(pix_size[bd==i]) for i in x]\n",
    "df = pd.DataFrame({'times': pd.DatetimeIndex(times), 'freq': y})\n",
    "\n",
    "fig, ax = plt.subplots(figsize=(12,5), dpi=120, facecolor='w')\n",
    "ax.bar(df.times,df.freq)\n",
    "ax.set_ylabel('Burned area (km²)')\n",
    "ax.set_title('Daily burned area');"
   ]
  },
  {
   "cell_type": "code",
   "execution_count": null,
   "metadata": {},
   "outputs": [],
   "source": [
    "# local\n",
    "print(f'Total burned area: {np.round(np.nansum(df.freq)*100)} ha')"
   ]
  }
 ],
 "metadata": {
  "kernelspec": {
   "display_name": "Python (fastai_dev)",
   "language": "python",
   "name": "fastai_dev"
  }
 },
 "nbformat": 4,
 "nbformat_minor": 2
}
